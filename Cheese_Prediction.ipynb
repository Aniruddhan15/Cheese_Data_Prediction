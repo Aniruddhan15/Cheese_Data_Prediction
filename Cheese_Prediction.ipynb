{
  "cells": [
    {
      "cell_type": "markdown",
      "id": "65bd6ce6",
      "metadata": {
        "id": "65bd6ce6"
      },
      "source": [
        "# Importing Data"
      ]
    },
    {
      "cell_type": "code",
      "execution_count": 1,
      "id": "8b8230ee",
      "metadata": {
        "id": "8b8230ee"
      },
      "outputs": [],
      "source": [
        "import pandas as pd\n",
        "import numpy as np\n",
        "import matplotlib.pyplot as plt\n",
        "import seaborn as sns\n",
        "import warnings\n",
        "warnings.filterwarnings('ignore')"
      ]
    },
    {
      "cell_type": "code",
      "execution_count": 3,
      "id": "ba79b6fa",
      "metadata": {
        "id": "ba79b6fa"
      },
      "outputs": [],
      "source": [
        "df=pd.read_csv('cheeses.csv')"
      ]
    },
    {
      "cell_type": "markdown",
      "id": "aafaeb71",
      "metadata": {
        "id": "aafaeb71"
      },
      "source": [
        "# Initial Data Understanding"
      ]
    },
    {
      "cell_type": "code",
      "execution_count": 4,
      "id": "d2b67926",
      "metadata": {
        "colab": {
          "base_uri": "https://localhost:8080/",
          "height": 417
        },
        "id": "d2b67926",
        "outputId": "03cfc684-541d-47a1-e23f-e7d9c4b604dd"
      },
      "outputs": [
        {
          "output_type": "execute_result",
          "data": {
            "text/plain": [
              "              cheese                                        url   milk  \\\n",
              "0         Aarewasser         https://www.cheese.com/aarewasser/    cow   \n",
              "1   Abbaye de Belloc   https://www.cheese.com/abbaye-de-belloc/  sheep   \n",
              "2   Abbaye de Belval   https://www.cheese.com/abbaye-de-belval/    cow   \n",
              "3  Abbaye de Citeaux  https://www.cheese.com/abbaye-de-citeaux/    cow   \n",
              "4    Abbaye de Tamié              https://www.cheese.com/tamie/    cow   \n",
              "\n",
              "       country       region family                        type fat_content  \\\n",
              "0  Switzerland          NaN    NaN                   semi-soft         NaN   \n",
              "1       France  Pays Basque    NaN          semi-hard, artisan         NaN   \n",
              "2       France          NaN    NaN                   semi-hard      40-46%   \n",
              "3       France     Burgundy    NaN  semi-soft, artisan, brined         NaN   \n",
              "4       France       Savoie    NaN               soft, artisan         NaN   \n",
              "\n",
              "  calcium_content                texture     rind   color  \\\n",
              "0             NaN                buttery   washed  yellow   \n",
              "1             NaN    creamy, dense, firm  natural  yellow   \n",
              "2             NaN                elastic   washed   ivory   \n",
              "3             NaN  creamy, dense, smooth   washed   white   \n",
              "4             NaN   creamy, open, smooth   washed   white   \n",
              "\n",
              "                  flavor              aroma vegetarian  vegan  \\\n",
              "0                  sweet            buttery      False  False   \n",
              "1          burnt caramel           lanoline       True  False   \n",
              "2                    NaN           aromatic      False  False   \n",
              "3  acidic, milky, smooth  barnyardy, earthy      False  False   \n",
              "4          fruity, nutty  perfumed, pungent      False  False   \n",
              "\n",
              "                      synonyms                              alt_spellings  \\\n",
              "0                          NaN                                        NaN   \n",
              "1  Abbaye Notre-Dame de Belloc                                        NaN   \n",
              "2                          NaN                                        NaN   \n",
              "3                          NaN                                        NaN   \n",
              "4                          NaN  Tamié, Trappiste de Tamie, Abbey of Tamie   \n",
              "\n",
              "  producers  \n",
              "0      Jumi  \n",
              "1       NaN  \n",
              "2       NaN  \n",
              "3       NaN  \n",
              "4       NaN  "
            ],
            "text/html": [
              "\n",
              "  <div id=\"df-c782d5e6-7b70-4fb7-8a61-4086645f7ec9\" class=\"colab-df-container\">\n",
              "    <div>\n",
              "<style scoped>\n",
              "    .dataframe tbody tr th:only-of-type {\n",
              "        vertical-align: middle;\n",
              "    }\n",
              "\n",
              "    .dataframe tbody tr th {\n",
              "        vertical-align: top;\n",
              "    }\n",
              "\n",
              "    .dataframe thead th {\n",
              "        text-align: right;\n",
              "    }\n",
              "</style>\n",
              "<table border=\"1\" class=\"dataframe\">\n",
              "  <thead>\n",
              "    <tr style=\"text-align: right;\">\n",
              "      <th></th>\n",
              "      <th>cheese</th>\n",
              "      <th>url</th>\n",
              "      <th>milk</th>\n",
              "      <th>country</th>\n",
              "      <th>region</th>\n",
              "      <th>family</th>\n",
              "      <th>type</th>\n",
              "      <th>fat_content</th>\n",
              "      <th>calcium_content</th>\n",
              "      <th>texture</th>\n",
              "      <th>rind</th>\n",
              "      <th>color</th>\n",
              "      <th>flavor</th>\n",
              "      <th>aroma</th>\n",
              "      <th>vegetarian</th>\n",
              "      <th>vegan</th>\n",
              "      <th>synonyms</th>\n",
              "      <th>alt_spellings</th>\n",
              "      <th>producers</th>\n",
              "    </tr>\n",
              "  </thead>\n",
              "  <tbody>\n",
              "    <tr>\n",
              "      <th>0</th>\n",
              "      <td>Aarewasser</td>\n",
              "      <td>https://www.cheese.com/aarewasser/</td>\n",
              "      <td>cow</td>\n",
              "      <td>Switzerland</td>\n",
              "      <td>NaN</td>\n",
              "      <td>NaN</td>\n",
              "      <td>semi-soft</td>\n",
              "      <td>NaN</td>\n",
              "      <td>NaN</td>\n",
              "      <td>buttery</td>\n",
              "      <td>washed</td>\n",
              "      <td>yellow</td>\n",
              "      <td>sweet</td>\n",
              "      <td>buttery</td>\n",
              "      <td>False</td>\n",
              "      <td>False</td>\n",
              "      <td>NaN</td>\n",
              "      <td>NaN</td>\n",
              "      <td>Jumi</td>\n",
              "    </tr>\n",
              "    <tr>\n",
              "      <th>1</th>\n",
              "      <td>Abbaye de Belloc</td>\n",
              "      <td>https://www.cheese.com/abbaye-de-belloc/</td>\n",
              "      <td>sheep</td>\n",
              "      <td>France</td>\n",
              "      <td>Pays Basque</td>\n",
              "      <td>NaN</td>\n",
              "      <td>semi-hard, artisan</td>\n",
              "      <td>NaN</td>\n",
              "      <td>NaN</td>\n",
              "      <td>creamy, dense, firm</td>\n",
              "      <td>natural</td>\n",
              "      <td>yellow</td>\n",
              "      <td>burnt caramel</td>\n",
              "      <td>lanoline</td>\n",
              "      <td>True</td>\n",
              "      <td>False</td>\n",
              "      <td>Abbaye Notre-Dame de Belloc</td>\n",
              "      <td>NaN</td>\n",
              "      <td>NaN</td>\n",
              "    </tr>\n",
              "    <tr>\n",
              "      <th>2</th>\n",
              "      <td>Abbaye de Belval</td>\n",
              "      <td>https://www.cheese.com/abbaye-de-belval/</td>\n",
              "      <td>cow</td>\n",
              "      <td>France</td>\n",
              "      <td>NaN</td>\n",
              "      <td>NaN</td>\n",
              "      <td>semi-hard</td>\n",
              "      <td>40-46%</td>\n",
              "      <td>NaN</td>\n",
              "      <td>elastic</td>\n",
              "      <td>washed</td>\n",
              "      <td>ivory</td>\n",
              "      <td>NaN</td>\n",
              "      <td>aromatic</td>\n",
              "      <td>False</td>\n",
              "      <td>False</td>\n",
              "      <td>NaN</td>\n",
              "      <td>NaN</td>\n",
              "      <td>NaN</td>\n",
              "    </tr>\n",
              "    <tr>\n",
              "      <th>3</th>\n",
              "      <td>Abbaye de Citeaux</td>\n",
              "      <td>https://www.cheese.com/abbaye-de-citeaux/</td>\n",
              "      <td>cow</td>\n",
              "      <td>France</td>\n",
              "      <td>Burgundy</td>\n",
              "      <td>NaN</td>\n",
              "      <td>semi-soft, artisan, brined</td>\n",
              "      <td>NaN</td>\n",
              "      <td>NaN</td>\n",
              "      <td>creamy, dense, smooth</td>\n",
              "      <td>washed</td>\n",
              "      <td>white</td>\n",
              "      <td>acidic, milky, smooth</td>\n",
              "      <td>barnyardy, earthy</td>\n",
              "      <td>False</td>\n",
              "      <td>False</td>\n",
              "      <td>NaN</td>\n",
              "      <td>NaN</td>\n",
              "      <td>NaN</td>\n",
              "    </tr>\n",
              "    <tr>\n",
              "      <th>4</th>\n",
              "      <td>Abbaye de Tamié</td>\n",
              "      <td>https://www.cheese.com/tamie/</td>\n",
              "      <td>cow</td>\n",
              "      <td>France</td>\n",
              "      <td>Savoie</td>\n",
              "      <td>NaN</td>\n",
              "      <td>soft, artisan</td>\n",
              "      <td>NaN</td>\n",
              "      <td>NaN</td>\n",
              "      <td>creamy, open, smooth</td>\n",
              "      <td>washed</td>\n",
              "      <td>white</td>\n",
              "      <td>fruity, nutty</td>\n",
              "      <td>perfumed, pungent</td>\n",
              "      <td>False</td>\n",
              "      <td>False</td>\n",
              "      <td>NaN</td>\n",
              "      <td>Tamié, Trappiste de Tamie, Abbey of Tamie</td>\n",
              "      <td>NaN</td>\n",
              "    </tr>\n",
              "  </tbody>\n",
              "</table>\n",
              "</div>\n",
              "    <div class=\"colab-df-buttons\">\n",
              "\n",
              "  <div class=\"colab-df-container\">\n",
              "    <button class=\"colab-df-convert\" onclick=\"convertToInteractive('df-c782d5e6-7b70-4fb7-8a61-4086645f7ec9')\"\n",
              "            title=\"Convert this dataframe to an interactive table.\"\n",
              "            style=\"display:none;\">\n",
              "\n",
              "  <svg xmlns=\"http://www.w3.org/2000/svg\" height=\"24px\" viewBox=\"0 -960 960 960\">\n",
              "    <path d=\"M120-120v-720h720v720H120Zm60-500h600v-160H180v160Zm220 220h160v-160H400v160Zm0 220h160v-160H400v160ZM180-400h160v-160H180v160Zm440 0h160v-160H620v160ZM180-180h160v-160H180v160Zm440 0h160v-160H620v160Z\"/>\n",
              "  </svg>\n",
              "    </button>\n",
              "\n",
              "  <style>\n",
              "    .colab-df-container {\n",
              "      display:flex;\n",
              "      gap: 12px;\n",
              "    }\n",
              "\n",
              "    .colab-df-convert {\n",
              "      background-color: #E8F0FE;\n",
              "      border: none;\n",
              "      border-radius: 50%;\n",
              "      cursor: pointer;\n",
              "      display: none;\n",
              "      fill: #1967D2;\n",
              "      height: 32px;\n",
              "      padding: 0 0 0 0;\n",
              "      width: 32px;\n",
              "    }\n",
              "\n",
              "    .colab-df-convert:hover {\n",
              "      background-color: #E2EBFA;\n",
              "      box-shadow: 0px 1px 2px rgba(60, 64, 67, 0.3), 0px 1px 3px 1px rgba(60, 64, 67, 0.15);\n",
              "      fill: #174EA6;\n",
              "    }\n",
              "\n",
              "    .colab-df-buttons div {\n",
              "      margin-bottom: 4px;\n",
              "    }\n",
              "\n",
              "    [theme=dark] .colab-df-convert {\n",
              "      background-color: #3B4455;\n",
              "      fill: #D2E3FC;\n",
              "    }\n",
              "\n",
              "    [theme=dark] .colab-df-convert:hover {\n",
              "      background-color: #434B5C;\n",
              "      box-shadow: 0px 1px 3px 1px rgba(0, 0, 0, 0.15);\n",
              "      filter: drop-shadow(0px 1px 2px rgba(0, 0, 0, 0.3));\n",
              "      fill: #FFFFFF;\n",
              "    }\n",
              "  </style>\n",
              "\n",
              "    <script>\n",
              "      const buttonEl =\n",
              "        document.querySelector('#df-c782d5e6-7b70-4fb7-8a61-4086645f7ec9 button.colab-df-convert');\n",
              "      buttonEl.style.display =\n",
              "        google.colab.kernel.accessAllowed ? 'block' : 'none';\n",
              "\n",
              "      async function convertToInteractive(key) {\n",
              "        const element = document.querySelector('#df-c782d5e6-7b70-4fb7-8a61-4086645f7ec9');\n",
              "        const dataTable =\n",
              "          await google.colab.kernel.invokeFunction('convertToInteractive',\n",
              "                                                    [key], {});\n",
              "        if (!dataTable) return;\n",
              "\n",
              "        const docLinkHtml = 'Like what you see? Visit the ' +\n",
              "          '<a target=\"_blank\" href=https://colab.research.google.com/notebooks/data_table.ipynb>data table notebook</a>'\n",
              "          + ' to learn more about interactive tables.';\n",
              "        element.innerHTML = '';\n",
              "        dataTable['output_type'] = 'display_data';\n",
              "        await google.colab.output.renderOutput(dataTable, element);\n",
              "        const docLink = document.createElement('div');\n",
              "        docLink.innerHTML = docLinkHtml;\n",
              "        element.appendChild(docLink);\n",
              "      }\n",
              "    </script>\n",
              "  </div>\n",
              "\n",
              "\n",
              "<div id=\"df-8896543a-6ad1-4244-9645-9f66a5ef0b10\">\n",
              "  <button class=\"colab-df-quickchart\" onclick=\"quickchart('df-8896543a-6ad1-4244-9645-9f66a5ef0b10')\"\n",
              "            title=\"Suggest charts\"\n",
              "            style=\"display:none;\">\n",
              "\n",
              "<svg xmlns=\"http://www.w3.org/2000/svg\" height=\"24px\"viewBox=\"0 0 24 24\"\n",
              "     width=\"24px\">\n",
              "    <g>\n",
              "        <path d=\"M19 3H5c-1.1 0-2 .9-2 2v14c0 1.1.9 2 2 2h14c1.1 0 2-.9 2-2V5c0-1.1-.9-2-2-2zM9 17H7v-7h2v7zm4 0h-2V7h2v10zm4 0h-2v-4h2v4z\"/>\n",
              "    </g>\n",
              "</svg>\n",
              "  </button>\n",
              "\n",
              "<style>\n",
              "  .colab-df-quickchart {\n",
              "      --bg-color: #E8F0FE;\n",
              "      --fill-color: #1967D2;\n",
              "      --hover-bg-color: #E2EBFA;\n",
              "      --hover-fill-color: #174EA6;\n",
              "      --disabled-fill-color: #AAA;\n",
              "      --disabled-bg-color: #DDD;\n",
              "  }\n",
              "\n",
              "  [theme=dark] .colab-df-quickchart {\n",
              "      --bg-color: #3B4455;\n",
              "      --fill-color: #D2E3FC;\n",
              "      --hover-bg-color: #434B5C;\n",
              "      --hover-fill-color: #FFFFFF;\n",
              "      --disabled-bg-color: #3B4455;\n",
              "      --disabled-fill-color: #666;\n",
              "  }\n",
              "\n",
              "  .colab-df-quickchart {\n",
              "    background-color: var(--bg-color);\n",
              "    border: none;\n",
              "    border-radius: 50%;\n",
              "    cursor: pointer;\n",
              "    display: none;\n",
              "    fill: var(--fill-color);\n",
              "    height: 32px;\n",
              "    padding: 0;\n",
              "    width: 32px;\n",
              "  }\n",
              "\n",
              "  .colab-df-quickchart:hover {\n",
              "    background-color: var(--hover-bg-color);\n",
              "    box-shadow: 0 1px 2px rgba(60, 64, 67, 0.3), 0 1px 3px 1px rgba(60, 64, 67, 0.15);\n",
              "    fill: var(--button-hover-fill-color);\n",
              "  }\n",
              "\n",
              "  .colab-df-quickchart-complete:disabled,\n",
              "  .colab-df-quickchart-complete:disabled:hover {\n",
              "    background-color: var(--disabled-bg-color);\n",
              "    fill: var(--disabled-fill-color);\n",
              "    box-shadow: none;\n",
              "  }\n",
              "\n",
              "  .colab-df-spinner {\n",
              "    border: 2px solid var(--fill-color);\n",
              "    border-color: transparent;\n",
              "    border-bottom-color: var(--fill-color);\n",
              "    animation:\n",
              "      spin 1s steps(1) infinite;\n",
              "  }\n",
              "\n",
              "  @keyframes spin {\n",
              "    0% {\n",
              "      border-color: transparent;\n",
              "      border-bottom-color: var(--fill-color);\n",
              "      border-left-color: var(--fill-color);\n",
              "    }\n",
              "    20% {\n",
              "      border-color: transparent;\n",
              "      border-left-color: var(--fill-color);\n",
              "      border-top-color: var(--fill-color);\n",
              "    }\n",
              "    30% {\n",
              "      border-color: transparent;\n",
              "      border-left-color: var(--fill-color);\n",
              "      border-top-color: var(--fill-color);\n",
              "      border-right-color: var(--fill-color);\n",
              "    }\n",
              "    40% {\n",
              "      border-color: transparent;\n",
              "      border-right-color: var(--fill-color);\n",
              "      border-top-color: var(--fill-color);\n",
              "    }\n",
              "    60% {\n",
              "      border-color: transparent;\n",
              "      border-right-color: var(--fill-color);\n",
              "    }\n",
              "    80% {\n",
              "      border-color: transparent;\n",
              "      border-right-color: var(--fill-color);\n",
              "      border-bottom-color: var(--fill-color);\n",
              "    }\n",
              "    90% {\n",
              "      border-color: transparent;\n",
              "      border-bottom-color: var(--fill-color);\n",
              "    }\n",
              "  }\n",
              "</style>\n",
              "\n",
              "  <script>\n",
              "    async function quickchart(key) {\n",
              "      const quickchartButtonEl =\n",
              "        document.querySelector('#' + key + ' button');\n",
              "      quickchartButtonEl.disabled = true;  // To prevent multiple clicks.\n",
              "      quickchartButtonEl.classList.add('colab-df-spinner');\n",
              "      try {\n",
              "        const charts = await google.colab.kernel.invokeFunction(\n",
              "            'suggestCharts', [key], {});\n",
              "      } catch (error) {\n",
              "        console.error('Error during call to suggestCharts:', error);\n",
              "      }\n",
              "      quickchartButtonEl.classList.remove('colab-df-spinner');\n",
              "      quickchartButtonEl.classList.add('colab-df-quickchart-complete');\n",
              "    }\n",
              "    (() => {\n",
              "      let quickchartButtonEl =\n",
              "        document.querySelector('#df-8896543a-6ad1-4244-9645-9f66a5ef0b10 button');\n",
              "      quickchartButtonEl.style.display =\n",
              "        google.colab.kernel.accessAllowed ? 'block' : 'none';\n",
              "    })();\n",
              "  </script>\n",
              "</div>\n",
              "\n",
              "    </div>\n",
              "  </div>\n"
            ],
            "application/vnd.google.colaboratory.intrinsic+json": {
              "type": "dataframe",
              "variable_name": "df",
              "summary": "{\n  \"name\": \"df\",\n  \"rows\": 1187,\n  \"fields\": [\n    {\n      \"column\": \"cheese\",\n      \"properties\": {\n        \"dtype\": \"string\",\n        \"num_unique_values\": 1187,\n        \"samples\": [\n          \"Buttermilk Gorgonzola\",\n          \"Point Reyes Bay Blue\",\n          \"Ships Wheel Brie\"\n        ],\n        \"semantic_type\": \"\",\n        \"description\": \"\"\n      }\n    },\n    {\n      \"column\": \"url\",\n      \"properties\": {\n        \"dtype\": \"string\",\n        \"num_unique_values\": 1187,\n        \"samples\": [\n          \"https://www.cheese.com/buttermilk-gorgonzola/\",\n          \"https://www.cheese.com/point-reyes-bay-blue/\",\n          \"https://www.cheese.com/ships-wheel-brie/\"\n        ],\n        \"semantic_type\": \"\",\n        \"description\": \"\"\n      }\n    },\n    {\n      \"column\": \"milk\",\n      \"properties\": {\n        \"dtype\": \"category\",\n        \"num_unique_values\": 21,\n        \"samples\": [\n          \"cow\",\n          \"buffalo, cow, sheep\",\n          \"camel\"\n        ],\n        \"semantic_type\": \"\",\n        \"description\": \"\"\n      }\n    },\n    {\n      \"column\": \"country\",\n      \"properties\": {\n        \"dtype\": \"category\",\n        \"num_unique_values\": 82,\n        \"samples\": [\n          \"Middle East\",\n          \"Switzerland\",\n          \"Greece\"\n        ],\n        \"semantic_type\": \"\",\n        \"description\": \"\"\n      }\n    },\n    {\n      \"column\": \"region\",\n      \"properties\": {\n        \"dtype\": \"category\",\n        \"num_unique_values\": 349,\n        \"samples\": [\n          \"Castile-Leon\",\n          \"Asiago\",\n          \"Naples\"\n        ],\n        \"semantic_type\": \"\",\n        \"description\": \"\"\n      }\n    },\n    {\n      \"column\": \"family\",\n      \"properties\": {\n        \"dtype\": \"category\",\n        \"num_unique_values\": 21,\n        \"samples\": [\n          \"Cheddar\",\n          \"Cornish\",\n          \"Gorgonzola\"\n        ],\n        \"semantic_type\": \"\",\n        \"description\": \"\"\n      }\n    },\n    {\n      \"column\": \"type\",\n      \"properties\": {\n        \"dtype\": \"category\",\n        \"num_unique_values\": 84,\n        \"samples\": [\n          \"soft, whey\",\n          \"semi-soft\",\n          \"soft, artisan, smear-ripened\"\n        ],\n        \"semantic_type\": \"\",\n        \"description\": \"\"\n      }\n    },\n    {\n      \"column\": \"fat_content\",\n      \"properties\": {\n        \"dtype\": \"category\",\n        \"num_unique_values\": 85,\n        \"samples\": [\n          \"30-45%\",\n          \"40-46%\",\n          \"25.4 g/100g\"\n        ],\n        \"semantic_type\": \"\",\n        \"description\": \"\"\n      }\n    },\n    {\n      \"column\": \"calcium_content\",\n      \"properties\": {\n        \"dtype\": \"category\",\n        \"num_unique_values\": 24,\n        \"samples\": [\n          \"430 mg/100g\",\n          \"30 mg/100g\",\n          \"26 mg/100g\"\n        ],\n        \"semantic_type\": \"\",\n        \"description\": \"\"\n      }\n    },\n    {\n      \"column\": \"texture\",\n      \"properties\": {\n        \"dtype\": \"category\",\n        \"num_unique_values\": 309,\n        \"samples\": [\n          \"close, creamy, supple\",\n          \"creamy\",\n          \"buttery, compact, crumbly\"\n        ],\n        \"semantic_type\": \"\",\n        \"description\": \"\"\n      }\n    },\n    {\n      \"column\": \"rind\",\n      \"properties\": {\n        \"dtype\": \"category\",\n        \"num_unique_values\": 12,\n        \"samples\": [\n          \"leaf wrapped\",\n          \"ash coated\",\n          \"washed\"\n        ],\n        \"semantic_type\": \"\",\n        \"description\": \"\"\n      }\n    },\n    {\n      \"column\": \"color\",\n      \"properties\": {\n        \"dtype\": \"category\",\n        \"num_unique_values\": 17,\n        \"samples\": [\n          \"yellow\",\n          \"ivory\",\n          \"orange\"\n        ],\n        \"semantic_type\": \"\",\n        \"description\": \"\"\n      }\n    },\n    {\n      \"column\": \"flavor\",\n      \"properties\": {\n        \"dtype\": \"string\",\n        \"num_unique_values\": 626,\n        \"samples\": [\n          \"buttery, creamy, nutty\",\n          \"earthy, meaty, strong\",\n          \"nutty, savory, sweet, tangy\"\n        ],\n        \"semantic_type\": \"\",\n        \"description\": \"\"\n      }\n    },\n    {\n      \"column\": \"aroma\",\n      \"properties\": {\n        \"dtype\": \"category\",\n        \"num_unique_values\": 330,\n        \"samples\": [\n          \"aromatic, fresh\",\n          \"fruity, goaty, rich\",\n          \"grassy, pleasant\"\n        ],\n        \"semantic_type\": \"\",\n        \"description\": \"\"\n      }\n    },\n    {\n      \"column\": \"vegetarian\",\n      \"properties\": {\n        \"dtype\": \"category\",\n        \"num_unique_values\": 2,\n        \"samples\": [\n          true,\n          false\n        ],\n        \"semantic_type\": \"\",\n        \"description\": \"\"\n      }\n    },\n    {\n      \"column\": \"vegan\",\n      \"properties\": {\n        \"dtype\": \"category\",\n        \"num_unique_values\": 2,\n        \"samples\": [\n          true,\n          false\n        ],\n        \"semantic_type\": \"\",\n        \"description\": \"\"\n      }\n    },\n    {\n      \"column\": \"synonyms\",\n      \"properties\": {\n        \"dtype\": \"category\",\n        \"num_unique_values\": 292,\n        \"samples\": [\n          \"Cabrales DOP, Cabrales PDO\",\n          \"VODCheese\"\n        ],\n        \"semantic_type\": \"\",\n        \"description\": \"\"\n      }\n    },\n    {\n      \"column\": \"alt_spellings\",\n      \"properties\": {\n        \"dtype\": \"category\",\n        \"num_unique_values\": 109,\n        \"samples\": [\n          \"Walnut tree leaf Pecorino cheese\",\n          \"Appenzeller Classic, Appenzeller Surchoix, Appenzeller Extra\"\n        ],\n        \"semantic_type\": \"\",\n        \"description\": \"\"\n      }\n    },\n    {\n      \"column\": \"producers\",\n      \"properties\": {\n        \"dtype\": \"category\",\n        \"num_unique_values\": 318,\n        \"samples\": [\n          \"Bellwether Farms\",\n          \"Trethowan Brothers\"\n        ],\n        \"semantic_type\": \"\",\n        \"description\": \"\"\n      }\n    }\n  ]\n}"
            }
          },
          "metadata": {},
          "execution_count": 4
        }
      ],
      "source": [
        "df.head()"
      ]
    },
    {
      "cell_type": "code",
      "execution_count": 5,
      "id": "daaa8b13",
      "metadata": {
        "id": "daaa8b13"
      },
      "outputs": [],
      "source": [
        "df.drop('url',axis=1,inplace=True)"
      ]
    },
    {
      "cell_type": "code",
      "execution_count": 6,
      "id": "810e5c8e",
      "metadata": {
        "colab": {
          "base_uri": "https://localhost:8080/",
          "height": 417
        },
        "id": "810e5c8e",
        "outputId": "6e879fce-2295-4cd1-9b93-dc3082e3b387"
      },
      "outputs": [
        {
          "output_type": "execute_result",
          "data": {
            "text/plain": [
              "              cheese   milk      country       region family  \\\n",
              "0         Aarewasser    cow  Switzerland          NaN    NaN   \n",
              "1   Abbaye de Belloc  sheep       France  Pays Basque    NaN   \n",
              "2   Abbaye de Belval    cow       France          NaN    NaN   \n",
              "3  Abbaye de Citeaux    cow       France     Burgundy    NaN   \n",
              "4    Abbaye de Tamié    cow       France       Savoie    NaN   \n",
              "\n",
              "                         type fat_content calcium_content  \\\n",
              "0                   semi-soft         NaN             NaN   \n",
              "1          semi-hard, artisan         NaN             NaN   \n",
              "2                   semi-hard      40-46%             NaN   \n",
              "3  semi-soft, artisan, brined         NaN             NaN   \n",
              "4               soft, artisan         NaN             NaN   \n",
              "\n",
              "                 texture     rind   color                 flavor  \\\n",
              "0                buttery   washed  yellow                  sweet   \n",
              "1    creamy, dense, firm  natural  yellow          burnt caramel   \n",
              "2                elastic   washed   ivory                    NaN   \n",
              "3  creamy, dense, smooth   washed   white  acidic, milky, smooth   \n",
              "4   creamy, open, smooth   washed   white          fruity, nutty   \n",
              "\n",
              "               aroma vegetarian  vegan                     synonyms  \\\n",
              "0            buttery      False  False                          NaN   \n",
              "1           lanoline       True  False  Abbaye Notre-Dame de Belloc   \n",
              "2           aromatic      False  False                          NaN   \n",
              "3  barnyardy, earthy      False  False                          NaN   \n",
              "4  perfumed, pungent      False  False                          NaN   \n",
              "\n",
              "                               alt_spellings producers  \n",
              "0                                        NaN      Jumi  \n",
              "1                                        NaN       NaN  \n",
              "2                                        NaN       NaN  \n",
              "3                                        NaN       NaN  \n",
              "4  Tamié, Trappiste de Tamie, Abbey of Tamie       NaN  "
            ],
            "text/html": [
              "\n",
              "  <div id=\"df-1a16f09a-4d82-4c84-a084-0def1eeed918\" class=\"colab-df-container\">\n",
              "    <div>\n",
              "<style scoped>\n",
              "    .dataframe tbody tr th:only-of-type {\n",
              "        vertical-align: middle;\n",
              "    }\n",
              "\n",
              "    .dataframe tbody tr th {\n",
              "        vertical-align: top;\n",
              "    }\n",
              "\n",
              "    .dataframe thead th {\n",
              "        text-align: right;\n",
              "    }\n",
              "</style>\n",
              "<table border=\"1\" class=\"dataframe\">\n",
              "  <thead>\n",
              "    <tr style=\"text-align: right;\">\n",
              "      <th></th>\n",
              "      <th>cheese</th>\n",
              "      <th>milk</th>\n",
              "      <th>country</th>\n",
              "      <th>region</th>\n",
              "      <th>family</th>\n",
              "      <th>type</th>\n",
              "      <th>fat_content</th>\n",
              "      <th>calcium_content</th>\n",
              "      <th>texture</th>\n",
              "      <th>rind</th>\n",
              "      <th>color</th>\n",
              "      <th>flavor</th>\n",
              "      <th>aroma</th>\n",
              "      <th>vegetarian</th>\n",
              "      <th>vegan</th>\n",
              "      <th>synonyms</th>\n",
              "      <th>alt_spellings</th>\n",
              "      <th>producers</th>\n",
              "    </tr>\n",
              "  </thead>\n",
              "  <tbody>\n",
              "    <tr>\n",
              "      <th>0</th>\n",
              "      <td>Aarewasser</td>\n",
              "      <td>cow</td>\n",
              "      <td>Switzerland</td>\n",
              "      <td>NaN</td>\n",
              "      <td>NaN</td>\n",
              "      <td>semi-soft</td>\n",
              "      <td>NaN</td>\n",
              "      <td>NaN</td>\n",
              "      <td>buttery</td>\n",
              "      <td>washed</td>\n",
              "      <td>yellow</td>\n",
              "      <td>sweet</td>\n",
              "      <td>buttery</td>\n",
              "      <td>False</td>\n",
              "      <td>False</td>\n",
              "      <td>NaN</td>\n",
              "      <td>NaN</td>\n",
              "      <td>Jumi</td>\n",
              "    </tr>\n",
              "    <tr>\n",
              "      <th>1</th>\n",
              "      <td>Abbaye de Belloc</td>\n",
              "      <td>sheep</td>\n",
              "      <td>France</td>\n",
              "      <td>Pays Basque</td>\n",
              "      <td>NaN</td>\n",
              "      <td>semi-hard, artisan</td>\n",
              "      <td>NaN</td>\n",
              "      <td>NaN</td>\n",
              "      <td>creamy, dense, firm</td>\n",
              "      <td>natural</td>\n",
              "      <td>yellow</td>\n",
              "      <td>burnt caramel</td>\n",
              "      <td>lanoline</td>\n",
              "      <td>True</td>\n",
              "      <td>False</td>\n",
              "      <td>Abbaye Notre-Dame de Belloc</td>\n",
              "      <td>NaN</td>\n",
              "      <td>NaN</td>\n",
              "    </tr>\n",
              "    <tr>\n",
              "      <th>2</th>\n",
              "      <td>Abbaye de Belval</td>\n",
              "      <td>cow</td>\n",
              "      <td>France</td>\n",
              "      <td>NaN</td>\n",
              "      <td>NaN</td>\n",
              "      <td>semi-hard</td>\n",
              "      <td>40-46%</td>\n",
              "      <td>NaN</td>\n",
              "      <td>elastic</td>\n",
              "      <td>washed</td>\n",
              "      <td>ivory</td>\n",
              "      <td>NaN</td>\n",
              "      <td>aromatic</td>\n",
              "      <td>False</td>\n",
              "      <td>False</td>\n",
              "      <td>NaN</td>\n",
              "      <td>NaN</td>\n",
              "      <td>NaN</td>\n",
              "    </tr>\n",
              "    <tr>\n",
              "      <th>3</th>\n",
              "      <td>Abbaye de Citeaux</td>\n",
              "      <td>cow</td>\n",
              "      <td>France</td>\n",
              "      <td>Burgundy</td>\n",
              "      <td>NaN</td>\n",
              "      <td>semi-soft, artisan, brined</td>\n",
              "      <td>NaN</td>\n",
              "      <td>NaN</td>\n",
              "      <td>creamy, dense, smooth</td>\n",
              "      <td>washed</td>\n",
              "      <td>white</td>\n",
              "      <td>acidic, milky, smooth</td>\n",
              "      <td>barnyardy, earthy</td>\n",
              "      <td>False</td>\n",
              "      <td>False</td>\n",
              "      <td>NaN</td>\n",
              "      <td>NaN</td>\n",
              "      <td>NaN</td>\n",
              "    </tr>\n",
              "    <tr>\n",
              "      <th>4</th>\n",
              "      <td>Abbaye de Tamié</td>\n",
              "      <td>cow</td>\n",
              "      <td>France</td>\n",
              "      <td>Savoie</td>\n",
              "      <td>NaN</td>\n",
              "      <td>soft, artisan</td>\n",
              "      <td>NaN</td>\n",
              "      <td>NaN</td>\n",
              "      <td>creamy, open, smooth</td>\n",
              "      <td>washed</td>\n",
              "      <td>white</td>\n",
              "      <td>fruity, nutty</td>\n",
              "      <td>perfumed, pungent</td>\n",
              "      <td>False</td>\n",
              "      <td>False</td>\n",
              "      <td>NaN</td>\n",
              "      <td>Tamié, Trappiste de Tamie, Abbey of Tamie</td>\n",
              "      <td>NaN</td>\n",
              "    </tr>\n",
              "  </tbody>\n",
              "</table>\n",
              "</div>\n",
              "    <div class=\"colab-df-buttons\">\n",
              "\n",
              "  <div class=\"colab-df-container\">\n",
              "    <button class=\"colab-df-convert\" onclick=\"convertToInteractive('df-1a16f09a-4d82-4c84-a084-0def1eeed918')\"\n",
              "            title=\"Convert this dataframe to an interactive table.\"\n",
              "            style=\"display:none;\">\n",
              "\n",
              "  <svg xmlns=\"http://www.w3.org/2000/svg\" height=\"24px\" viewBox=\"0 -960 960 960\">\n",
              "    <path d=\"M120-120v-720h720v720H120Zm60-500h600v-160H180v160Zm220 220h160v-160H400v160Zm0 220h160v-160H400v160ZM180-400h160v-160H180v160Zm440 0h160v-160H620v160ZM180-180h160v-160H180v160Zm440 0h160v-160H620v160Z\"/>\n",
              "  </svg>\n",
              "    </button>\n",
              "\n",
              "  <style>\n",
              "    .colab-df-container {\n",
              "      display:flex;\n",
              "      gap: 12px;\n",
              "    }\n",
              "\n",
              "    .colab-df-convert {\n",
              "      background-color: #E8F0FE;\n",
              "      border: none;\n",
              "      border-radius: 50%;\n",
              "      cursor: pointer;\n",
              "      display: none;\n",
              "      fill: #1967D2;\n",
              "      height: 32px;\n",
              "      padding: 0 0 0 0;\n",
              "      width: 32px;\n",
              "    }\n",
              "\n",
              "    .colab-df-convert:hover {\n",
              "      background-color: #E2EBFA;\n",
              "      box-shadow: 0px 1px 2px rgba(60, 64, 67, 0.3), 0px 1px 3px 1px rgba(60, 64, 67, 0.15);\n",
              "      fill: #174EA6;\n",
              "    }\n",
              "\n",
              "    .colab-df-buttons div {\n",
              "      margin-bottom: 4px;\n",
              "    }\n",
              "\n",
              "    [theme=dark] .colab-df-convert {\n",
              "      background-color: #3B4455;\n",
              "      fill: #D2E3FC;\n",
              "    }\n",
              "\n",
              "    [theme=dark] .colab-df-convert:hover {\n",
              "      background-color: #434B5C;\n",
              "      box-shadow: 0px 1px 3px 1px rgba(0, 0, 0, 0.15);\n",
              "      filter: drop-shadow(0px 1px 2px rgba(0, 0, 0, 0.3));\n",
              "      fill: #FFFFFF;\n",
              "    }\n",
              "  </style>\n",
              "\n",
              "    <script>\n",
              "      const buttonEl =\n",
              "        document.querySelector('#df-1a16f09a-4d82-4c84-a084-0def1eeed918 button.colab-df-convert');\n",
              "      buttonEl.style.display =\n",
              "        google.colab.kernel.accessAllowed ? 'block' : 'none';\n",
              "\n",
              "      async function convertToInteractive(key) {\n",
              "        const element = document.querySelector('#df-1a16f09a-4d82-4c84-a084-0def1eeed918');\n",
              "        const dataTable =\n",
              "          await google.colab.kernel.invokeFunction('convertToInteractive',\n",
              "                                                    [key], {});\n",
              "        if (!dataTable) return;\n",
              "\n",
              "        const docLinkHtml = 'Like what you see? Visit the ' +\n",
              "          '<a target=\"_blank\" href=https://colab.research.google.com/notebooks/data_table.ipynb>data table notebook</a>'\n",
              "          + ' to learn more about interactive tables.';\n",
              "        element.innerHTML = '';\n",
              "        dataTable['output_type'] = 'display_data';\n",
              "        await google.colab.output.renderOutput(dataTable, element);\n",
              "        const docLink = document.createElement('div');\n",
              "        docLink.innerHTML = docLinkHtml;\n",
              "        element.appendChild(docLink);\n",
              "      }\n",
              "    </script>\n",
              "  </div>\n",
              "\n",
              "\n",
              "<div id=\"df-dc6b396d-4e0a-4491-8ed3-9744ac8d6283\">\n",
              "  <button class=\"colab-df-quickchart\" onclick=\"quickchart('df-dc6b396d-4e0a-4491-8ed3-9744ac8d6283')\"\n",
              "            title=\"Suggest charts\"\n",
              "            style=\"display:none;\">\n",
              "\n",
              "<svg xmlns=\"http://www.w3.org/2000/svg\" height=\"24px\"viewBox=\"0 0 24 24\"\n",
              "     width=\"24px\">\n",
              "    <g>\n",
              "        <path d=\"M19 3H5c-1.1 0-2 .9-2 2v14c0 1.1.9 2 2 2h14c1.1 0 2-.9 2-2V5c0-1.1-.9-2-2-2zM9 17H7v-7h2v7zm4 0h-2V7h2v10zm4 0h-2v-4h2v4z\"/>\n",
              "    </g>\n",
              "</svg>\n",
              "  </button>\n",
              "\n",
              "<style>\n",
              "  .colab-df-quickchart {\n",
              "      --bg-color: #E8F0FE;\n",
              "      --fill-color: #1967D2;\n",
              "      --hover-bg-color: #E2EBFA;\n",
              "      --hover-fill-color: #174EA6;\n",
              "      --disabled-fill-color: #AAA;\n",
              "      --disabled-bg-color: #DDD;\n",
              "  }\n",
              "\n",
              "  [theme=dark] .colab-df-quickchart {\n",
              "      --bg-color: #3B4455;\n",
              "      --fill-color: #D2E3FC;\n",
              "      --hover-bg-color: #434B5C;\n",
              "      --hover-fill-color: #FFFFFF;\n",
              "      --disabled-bg-color: #3B4455;\n",
              "      --disabled-fill-color: #666;\n",
              "  }\n",
              "\n",
              "  .colab-df-quickchart {\n",
              "    background-color: var(--bg-color);\n",
              "    border: none;\n",
              "    border-radius: 50%;\n",
              "    cursor: pointer;\n",
              "    display: none;\n",
              "    fill: var(--fill-color);\n",
              "    height: 32px;\n",
              "    padding: 0;\n",
              "    width: 32px;\n",
              "  }\n",
              "\n",
              "  .colab-df-quickchart:hover {\n",
              "    background-color: var(--hover-bg-color);\n",
              "    box-shadow: 0 1px 2px rgba(60, 64, 67, 0.3), 0 1px 3px 1px rgba(60, 64, 67, 0.15);\n",
              "    fill: var(--button-hover-fill-color);\n",
              "  }\n",
              "\n",
              "  .colab-df-quickchart-complete:disabled,\n",
              "  .colab-df-quickchart-complete:disabled:hover {\n",
              "    background-color: var(--disabled-bg-color);\n",
              "    fill: var(--disabled-fill-color);\n",
              "    box-shadow: none;\n",
              "  }\n",
              "\n",
              "  .colab-df-spinner {\n",
              "    border: 2px solid var(--fill-color);\n",
              "    border-color: transparent;\n",
              "    border-bottom-color: var(--fill-color);\n",
              "    animation:\n",
              "      spin 1s steps(1) infinite;\n",
              "  }\n",
              "\n",
              "  @keyframes spin {\n",
              "    0% {\n",
              "      border-color: transparent;\n",
              "      border-bottom-color: var(--fill-color);\n",
              "      border-left-color: var(--fill-color);\n",
              "    }\n",
              "    20% {\n",
              "      border-color: transparent;\n",
              "      border-left-color: var(--fill-color);\n",
              "      border-top-color: var(--fill-color);\n",
              "    }\n",
              "    30% {\n",
              "      border-color: transparent;\n",
              "      border-left-color: var(--fill-color);\n",
              "      border-top-color: var(--fill-color);\n",
              "      border-right-color: var(--fill-color);\n",
              "    }\n",
              "    40% {\n",
              "      border-color: transparent;\n",
              "      border-right-color: var(--fill-color);\n",
              "      border-top-color: var(--fill-color);\n",
              "    }\n",
              "    60% {\n",
              "      border-color: transparent;\n",
              "      border-right-color: var(--fill-color);\n",
              "    }\n",
              "    80% {\n",
              "      border-color: transparent;\n",
              "      border-right-color: var(--fill-color);\n",
              "      border-bottom-color: var(--fill-color);\n",
              "    }\n",
              "    90% {\n",
              "      border-color: transparent;\n",
              "      border-bottom-color: var(--fill-color);\n",
              "    }\n",
              "  }\n",
              "</style>\n",
              "\n",
              "  <script>\n",
              "    async function quickchart(key) {\n",
              "      const quickchartButtonEl =\n",
              "        document.querySelector('#' + key + ' button');\n",
              "      quickchartButtonEl.disabled = true;  // To prevent multiple clicks.\n",
              "      quickchartButtonEl.classList.add('colab-df-spinner');\n",
              "      try {\n",
              "        const charts = await google.colab.kernel.invokeFunction(\n",
              "            'suggestCharts', [key], {});\n",
              "      } catch (error) {\n",
              "        console.error('Error during call to suggestCharts:', error);\n",
              "      }\n",
              "      quickchartButtonEl.classList.remove('colab-df-spinner');\n",
              "      quickchartButtonEl.classList.add('colab-df-quickchart-complete');\n",
              "    }\n",
              "    (() => {\n",
              "      let quickchartButtonEl =\n",
              "        document.querySelector('#df-dc6b396d-4e0a-4491-8ed3-9744ac8d6283 button');\n",
              "      quickchartButtonEl.style.display =\n",
              "        google.colab.kernel.accessAllowed ? 'block' : 'none';\n",
              "    })();\n",
              "  </script>\n",
              "</div>\n",
              "\n",
              "    </div>\n",
              "  </div>\n"
            ],
            "application/vnd.google.colaboratory.intrinsic+json": {
              "type": "dataframe",
              "variable_name": "df",
              "summary": "{\n  \"name\": \"df\",\n  \"rows\": 1187,\n  \"fields\": [\n    {\n      \"column\": \"cheese\",\n      \"properties\": {\n        \"dtype\": \"string\",\n        \"num_unique_values\": 1187,\n        \"samples\": [\n          \"Buttermilk Gorgonzola\",\n          \"Point Reyes Bay Blue\",\n          \"Ships Wheel Brie\"\n        ],\n        \"semantic_type\": \"\",\n        \"description\": \"\"\n      }\n    },\n    {\n      \"column\": \"milk\",\n      \"properties\": {\n        \"dtype\": \"category\",\n        \"num_unique_values\": 21,\n        \"samples\": [\n          \"cow\",\n          \"buffalo, cow, sheep\",\n          \"camel\"\n        ],\n        \"semantic_type\": \"\",\n        \"description\": \"\"\n      }\n    },\n    {\n      \"column\": \"country\",\n      \"properties\": {\n        \"dtype\": \"category\",\n        \"num_unique_values\": 82,\n        \"samples\": [\n          \"Middle East\",\n          \"Switzerland\",\n          \"Greece\"\n        ],\n        \"semantic_type\": \"\",\n        \"description\": \"\"\n      }\n    },\n    {\n      \"column\": \"region\",\n      \"properties\": {\n        \"dtype\": \"category\",\n        \"num_unique_values\": 349,\n        \"samples\": [\n          \"Castile-Leon\",\n          \"Asiago\",\n          \"Naples\"\n        ],\n        \"semantic_type\": \"\",\n        \"description\": \"\"\n      }\n    },\n    {\n      \"column\": \"family\",\n      \"properties\": {\n        \"dtype\": \"category\",\n        \"num_unique_values\": 21,\n        \"samples\": [\n          \"Cheddar\",\n          \"Cornish\",\n          \"Gorgonzola\"\n        ],\n        \"semantic_type\": \"\",\n        \"description\": \"\"\n      }\n    },\n    {\n      \"column\": \"type\",\n      \"properties\": {\n        \"dtype\": \"category\",\n        \"num_unique_values\": 84,\n        \"samples\": [\n          \"soft, whey\",\n          \"semi-soft\",\n          \"soft, artisan, smear-ripened\"\n        ],\n        \"semantic_type\": \"\",\n        \"description\": \"\"\n      }\n    },\n    {\n      \"column\": \"fat_content\",\n      \"properties\": {\n        \"dtype\": \"category\",\n        \"num_unique_values\": 85,\n        \"samples\": [\n          \"30-45%\",\n          \"40-46%\",\n          \"25.4 g/100g\"\n        ],\n        \"semantic_type\": \"\",\n        \"description\": \"\"\n      }\n    },\n    {\n      \"column\": \"calcium_content\",\n      \"properties\": {\n        \"dtype\": \"category\",\n        \"num_unique_values\": 24,\n        \"samples\": [\n          \"430 mg/100g\",\n          \"30 mg/100g\",\n          \"26 mg/100g\"\n        ],\n        \"semantic_type\": \"\",\n        \"description\": \"\"\n      }\n    },\n    {\n      \"column\": \"texture\",\n      \"properties\": {\n        \"dtype\": \"category\",\n        \"num_unique_values\": 309,\n        \"samples\": [\n          \"close, creamy, supple\",\n          \"creamy\",\n          \"buttery, compact, crumbly\"\n        ],\n        \"semantic_type\": \"\",\n        \"description\": \"\"\n      }\n    },\n    {\n      \"column\": \"rind\",\n      \"properties\": {\n        \"dtype\": \"category\",\n        \"num_unique_values\": 12,\n        \"samples\": [\n          \"leaf wrapped\",\n          \"ash coated\",\n          \"washed\"\n        ],\n        \"semantic_type\": \"\",\n        \"description\": \"\"\n      }\n    },\n    {\n      \"column\": \"color\",\n      \"properties\": {\n        \"dtype\": \"category\",\n        \"num_unique_values\": 17,\n        \"samples\": [\n          \"yellow\",\n          \"ivory\",\n          \"orange\"\n        ],\n        \"semantic_type\": \"\",\n        \"description\": \"\"\n      }\n    },\n    {\n      \"column\": \"flavor\",\n      \"properties\": {\n        \"dtype\": \"string\",\n        \"num_unique_values\": 626,\n        \"samples\": [\n          \"buttery, creamy, nutty\",\n          \"earthy, meaty, strong\",\n          \"nutty, savory, sweet, tangy\"\n        ],\n        \"semantic_type\": \"\",\n        \"description\": \"\"\n      }\n    },\n    {\n      \"column\": \"aroma\",\n      \"properties\": {\n        \"dtype\": \"category\",\n        \"num_unique_values\": 330,\n        \"samples\": [\n          \"aromatic, fresh\",\n          \"fruity, goaty, rich\",\n          \"grassy, pleasant\"\n        ],\n        \"semantic_type\": \"\",\n        \"description\": \"\"\n      }\n    },\n    {\n      \"column\": \"vegetarian\",\n      \"properties\": {\n        \"dtype\": \"category\",\n        \"num_unique_values\": 2,\n        \"samples\": [\n          true,\n          false\n        ],\n        \"semantic_type\": \"\",\n        \"description\": \"\"\n      }\n    },\n    {\n      \"column\": \"vegan\",\n      \"properties\": {\n        \"dtype\": \"category\",\n        \"num_unique_values\": 2,\n        \"samples\": [\n          true,\n          false\n        ],\n        \"semantic_type\": \"\",\n        \"description\": \"\"\n      }\n    },\n    {\n      \"column\": \"synonyms\",\n      \"properties\": {\n        \"dtype\": \"category\",\n        \"num_unique_values\": 292,\n        \"samples\": [\n          \"Cabrales DOP, Cabrales PDO\",\n          \"VODCheese\"\n        ],\n        \"semantic_type\": \"\",\n        \"description\": \"\"\n      }\n    },\n    {\n      \"column\": \"alt_spellings\",\n      \"properties\": {\n        \"dtype\": \"category\",\n        \"num_unique_values\": 109,\n        \"samples\": [\n          \"Walnut tree leaf Pecorino cheese\",\n          \"Appenzeller Classic, Appenzeller Surchoix, Appenzeller Extra\"\n        ],\n        \"semantic_type\": \"\",\n        \"description\": \"\"\n      }\n    },\n    {\n      \"column\": \"producers\",\n      \"properties\": {\n        \"dtype\": \"category\",\n        \"num_unique_values\": 318,\n        \"samples\": [\n          \"Bellwether Farms\",\n          \"Trethowan Brothers\"\n        ],\n        \"semantic_type\": \"\",\n        \"description\": \"\"\n      }\n    }\n  ]\n}"
            }
          },
          "metadata": {},
          "execution_count": 6
        }
      ],
      "source": [
        "df.head()"
      ]
    },
    {
      "cell_type": "code",
      "execution_count": 7,
      "id": "9a2d3fd4",
      "metadata": {
        "colab": {
          "base_uri": "https://localhost:8080/"
        },
        "id": "9a2d3fd4",
        "outputId": "55f5c8fb-8c32-4fb4-9cc1-75b9b0d51dff"
      },
      "outputs": [
        {
          "output_type": "stream",
          "name": "stdout",
          "text": [
            "<class 'pandas.core.frame.DataFrame'>\n",
            "RangeIndex: 1187 entries, 0 to 1186\n",
            "Data columns (total 18 columns):\n",
            " #   Column           Non-Null Count  Dtype \n",
            "---  ------           --------------  ----- \n",
            " 0   cheese           1187 non-null   object\n",
            " 1   milk             1151 non-null   object\n",
            " 2   country          1176 non-null   object\n",
            " 3   region           855 non-null    object\n",
            " 4   family           489 non-null    object\n",
            " 5   type             1174 non-null   object\n",
            " 6   fat_content      248 non-null    object\n",
            " 7   calcium_content  25 non-null     object\n",
            " 8   texture          1129 non-null   object\n",
            " 9   rind             945 non-null    object\n",
            " 10  color            1045 non-null   object\n",
            " 11  flavor           1089 non-null   object\n",
            " 12  aroma            929 non-null    object\n",
            " 13  vegetarian       748 non-null    object\n",
            " 14  vegan            748 non-null    object\n",
            " 15  synonyms         294 non-null    object\n",
            " 16  alt_spellings    109 non-null    object\n",
            " 17  producers        787 non-null    object\n",
            "dtypes: object(18)\n",
            "memory usage: 167.0+ KB\n"
          ]
        }
      ],
      "source": [
        "df.info()"
      ]
    },
    {
      "cell_type": "code",
      "execution_count": 8,
      "id": "2f91be0a",
      "metadata": {
        "colab": {
          "base_uri": "https://localhost:8080/"
        },
        "id": "2f91be0a",
        "outputId": "d4683a07-8ed6-4b5f-b03a-1188c7286ab5"
      },
      "outputs": [
        {
          "output_type": "execute_result",
          "data": {
            "text/plain": [
              "milk\n",
              "cow                                696\n",
              "goat                               195\n",
              "sheep                              128\n",
              "cow, goat                           25\n",
              "cow, goat, sheep                    21\n",
              "goat, sheep                         21\n",
              "cow, sheep                          21\n",
              "water buffalo                       14\n",
              "plant-based                          6\n",
              "buffalo, cow                         5\n",
              "buffalo                              4\n",
              "cow, water buffalo                   3\n",
              "cow, goat, water buffalo             2\n",
              "yak                                  2\n",
              "cow, goat, sheep, water buffalo      2\n",
              "camel                                1\n",
              "cow, yak                             1\n",
              "buffalo, cow, sheep                  1\n",
              "moose                                1\n",
              "donkey                               1\n",
              "goat, yak                            1\n",
              "Name: count, dtype: int64"
            ]
          },
          "metadata": {},
          "execution_count": 8
        }
      ],
      "source": [
        "df['milk'].value_counts()"
      ]
    },
    {
      "cell_type": "markdown",
      "id": "13e24b78",
      "metadata": {
        "id": "13e24b78"
      },
      "source": [
        "# Data Preprocesing"
      ]
    },
    {
      "cell_type": "code",
      "execution_count": 9,
      "id": "439e7cec",
      "metadata": {
        "id": "439e7cec"
      },
      "outputs": [],
      "source": [
        "df['milk']=df['milk'].fillna(df['milk'].mode()[0])"
      ]
    },
    {
      "cell_type": "code",
      "execution_count": 10,
      "id": "242b4eca",
      "metadata": {
        "colab": {
          "base_uri": "https://localhost:8080/"
        },
        "id": "242b4eca",
        "outputId": "b6d2ab90-5eae-42c4-d454-21e25b0ad62c"
      },
      "outputs": [
        {
          "output_type": "execute_result",
          "data": {
            "text/plain": [
              "cheese                0\n",
              "milk                  0\n",
              "country              11\n",
              "region              332\n",
              "family              698\n",
              "type                 13\n",
              "fat_content         939\n",
              "calcium_content    1162\n",
              "texture              58\n",
              "rind                242\n",
              "color               142\n",
              "flavor               98\n",
              "aroma               258\n",
              "vegetarian          439\n",
              "vegan               439\n",
              "synonyms            893\n",
              "alt_spellings      1078\n",
              "producers           400\n",
              "dtype: int64"
            ]
          },
          "metadata": {},
          "execution_count": 10
        }
      ],
      "source": [
        "df.isnull().sum()"
      ]
    },
    {
      "cell_type": "code",
      "execution_count": 11,
      "id": "15292587",
      "metadata": {
        "id": "15292587"
      },
      "outputs": [],
      "source": [
        "df.drop('fat_content',axis=1,inplace=True)"
      ]
    },
    {
      "cell_type": "code",
      "execution_count": 12,
      "id": "73fd6a64",
      "metadata": {
        "id": "73fd6a64"
      },
      "outputs": [],
      "source": [
        "df['color']=df['color'].fillna(df['color'].mode()[0])"
      ]
    },
    {
      "cell_type": "code",
      "execution_count": 13,
      "id": "5a0945c6",
      "metadata": {
        "id": "5a0945c6"
      },
      "outputs": [],
      "source": [
        "df['aroma']=df['aroma'].fillna(df['aroma'].mode()[0])"
      ]
    },
    {
      "cell_type": "code",
      "execution_count": 14,
      "id": "0b0a8e21",
      "metadata": {
        "id": "0b0a8e21"
      },
      "outputs": [],
      "source": [
        "df['producers']=df['producers'].fillna(df['producers'].mode()[0])"
      ]
    },
    {
      "cell_type": "code",
      "execution_count": 15,
      "id": "08d8f0f0",
      "metadata": {
        "id": "08d8f0f0"
      },
      "outputs": [],
      "source": [
        "df.drop('calcium_content',axis=1,inplace=True)"
      ]
    },
    {
      "cell_type": "code",
      "execution_count": 16,
      "id": "36eba7eb",
      "metadata": {
        "id": "36eba7eb"
      },
      "outputs": [],
      "source": [
        "df.drop('region',axis=1,inplace=True)"
      ]
    },
    {
      "cell_type": "code",
      "execution_count": 17,
      "id": "c0e327de",
      "metadata": {
        "id": "c0e327de"
      },
      "outputs": [],
      "source": [
        "df.drop('family',axis=1,inplace=True)"
      ]
    },
    {
      "cell_type": "code",
      "execution_count": 18,
      "id": "3960c8d3",
      "metadata": {
        "id": "3960c8d3"
      },
      "outputs": [],
      "source": [
        "df['vegetarian']=df['vegetarian'].fillna(df['vegetarian'].mode()[0])"
      ]
    },
    {
      "cell_type": "code",
      "execution_count": 19,
      "id": "690f713d",
      "metadata": {
        "id": "690f713d"
      },
      "outputs": [],
      "source": [
        "df.drop('rind',axis=1,inplace=True)"
      ]
    },
    {
      "cell_type": "code",
      "execution_count": 20,
      "id": "4ad250fd",
      "metadata": {
        "id": "4ad250fd"
      },
      "outputs": [],
      "source": [
        "df['flavor']=df['flavor'].fillna(df['flavor'].mode()[0])"
      ]
    },
    {
      "cell_type": "code",
      "execution_count": 21,
      "id": "5462b9cf",
      "metadata": {
        "id": "5462b9cf"
      },
      "outputs": [],
      "source": [
        "df['country']=df['country'].fillna(df['country'].mode()[0])"
      ]
    },
    {
      "cell_type": "code",
      "execution_count": 22,
      "id": "db8fde12",
      "metadata": {
        "id": "db8fde12"
      },
      "outputs": [],
      "source": [
        "df['type']=df['type'].fillna(df['type'].mode()[0])"
      ]
    },
    {
      "cell_type": "code",
      "execution_count": 23,
      "id": "fa836ea5",
      "metadata": {
        "id": "fa836ea5"
      },
      "outputs": [],
      "source": [
        "df['texture']=df['texture'].fillna(df['texture'].mode()[0])"
      ]
    },
    {
      "cell_type": "code",
      "execution_count": 24,
      "id": "ba377b81",
      "metadata": {
        "id": "ba377b81"
      },
      "outputs": [],
      "source": [
        "df.drop('alt_spellings',axis=1,inplace=True)"
      ]
    },
    {
      "cell_type": "code",
      "execution_count": 25,
      "id": "6b6d2c7a",
      "metadata": {
        "id": "6b6d2c7a"
      },
      "outputs": [],
      "source": [
        "df.drop('vegan',axis=1,inplace=True)"
      ]
    },
    {
      "cell_type": "code",
      "execution_count": 26,
      "id": "331bf576",
      "metadata": {
        "id": "331bf576"
      },
      "outputs": [],
      "source": [
        "df.drop('synonyms',axis=1,inplace=True)"
      ]
    },
    {
      "cell_type": "code",
      "execution_count": 27,
      "id": "3b009f92",
      "metadata": {
        "colab": {
          "base_uri": "https://localhost:8080/"
        },
        "id": "3b009f92",
        "outputId": "77caf9b8-c04b-4342-fbd6-051c054cb9ee"
      },
      "outputs": [
        {
          "output_type": "execute_result",
          "data": {
            "text/plain": [
              "(1187, 10)"
            ]
          },
          "metadata": {},
          "execution_count": 27
        }
      ],
      "source": [
        "df.shape"
      ]
    },
    {
      "cell_type": "code",
      "execution_count": 28,
      "id": "29e7e0d0",
      "metadata": {
        "colab": {
          "base_uri": "https://localhost:8080/"
        },
        "id": "29e7e0d0",
        "outputId": "6b9f6161-ed80-4ebf-e7a8-7f6346e2eb13"
      },
      "outputs": [
        {
          "output_type": "execute_result",
          "data": {
            "text/plain": [
              "0"
            ]
          },
          "metadata": {},
          "execution_count": 28
        }
      ],
      "source": [
        "df.duplicated().sum()"
      ]
    },
    {
      "cell_type": "code",
      "execution_count": 29,
      "id": "ad4cb8c7",
      "metadata": {
        "id": "ad4cb8c7"
      },
      "outputs": [],
      "source": [
        "from sklearn import preprocessing\n",
        "le = preprocessing.LabelEncoder()\n"
      ]
    },
    {
      "cell_type": "markdown",
      "id": "18db2333",
      "metadata": {
        "id": "18db2333"
      },
      "source": [
        "# Exploratory Data Analysis"
      ]
    },
    {
      "cell_type": "code",
      "execution_count": 30,
      "id": "c23f399a",
      "metadata": {
        "id": "c23f399a"
      },
      "outputs": [],
      "source": [
        "df['milk']= le.fit_transform(df['milk'])\n",
        "df['type']= le.fit_transform(df['type'])\n",
        "df['country']= le.fit_transform(df['country'])\n",
        "df['texture']= le.fit_transform(df['texture'])\n",
        "df['color']= le.fit_transform(df['color'])\n",
        "df['flavor']= le.fit_transform(df['flavor'])\n",
        "df['aroma']= le.fit_transform(df['aroma'])\n",
        "df['vegetarian']= le.fit_transform(df['vegetarian'])\n",
        "df['producers']= le.fit_transform(df['producers'])"
      ]
    },
    {
      "cell_type": "code",
      "execution_count": 31,
      "id": "8bb9b3d0",
      "metadata": {
        "id": "8bb9b3d0"
      },
      "outputs": [],
      "source": [
        "df.drop('cheese',axis=1,inplace=True)"
      ]
    },
    {
      "cell_type": "code",
      "execution_count": 32,
      "id": "3e87ebd7",
      "metadata": {
        "colab": {
          "base_uri": "https://localhost:8080/",
          "height": 853
        },
        "id": "3e87ebd7",
        "outputId": "d0c96194-b02a-48de-aa3f-caa6d41f8584"
      },
      "outputs": [
        {
          "output_type": "execute_result",
          "data": {
            "text/plain": [
              "<Axes: >"
            ]
          },
          "metadata": {},
          "execution_count": 32
        },
        {
          "output_type": "display_data",
          "data": {
            "text/plain": [
              "<Figure size 1500x1000 with 2 Axes>"
            ],
            "image/png": "[encoded data removed]"
          },
          "metadata": {}
        }
      ],
      "source": [
        "plt.figure(figsize=(15,10))\n",
        "sns.heatmap(df.corr(),annot=True,cbar='virdis',linecolor='white',linewidths=0.9,center=True)"
      ]
    },
    {
      "cell_type": "code",
      "execution_count": 33,
      "id": "bfca3b1b",
      "metadata": {
        "colab": {
          "base_uri": "https://localhost:8080/"
        },
        "id": "bfca3b1b",
        "outputId": "9dc3e298-d29c-45e0-ada7-8e39ac2dea59"
      },
      "outputs": [
        {
          "output_type": "execute_result",
          "data": {
            "text/plain": [
              "country\n",
              "0       1\n",
              "1       1\n",
              "2       2\n",
              "3       1\n",
              "4      53\n",
              "     ... \n",
              "77     43\n",
              "78      1\n",
              "79      2\n",
              "80    316\n",
              "81      6\n",
              "Name: vegetarian, Length: 82, dtype: int64"
            ]
          },
          "metadata": {},
          "execution_count": 33
        }
      ],
      "source": [
        "df.groupby('country')['vegetarian'].count()"
      ]
    },
    {
      "cell_type": "code",
      "execution_count": 34,
      "id": "573f90f2",
      "metadata": {
        "colab": {
          "base_uri": "https://localhost:8080/"
        },
        "id": "573f90f2",
        "outputId": "c72731aa-ae0f-414a-b5ee-6e215631d080"
      },
      "outputs": [
        {
          "output_type": "execute_result",
          "data": {
            "text/plain": [
              "milk\n",
              "0       4\n",
              "1       5\n",
              "2       1\n",
              "3       1\n",
              "4     732\n",
              "5      25\n",
              "6      21\n",
              "7       2\n",
              "8       2\n",
              "9      21\n",
              "10      3\n",
              "11      1\n",
              "12      1\n",
              "13    195\n",
              "14     21\n",
              "15      1\n",
              "16      1\n",
              "17      6\n",
              "18    128\n",
              "19     14\n",
              "20      2\n",
              "Name: vegetarian, dtype: int64"
            ]
          },
          "metadata": {},
          "execution_count": 34
        }
      ],
      "source": [
        "df.groupby('milk')['vegetarian'].count()"
      ]
    },
    {
      "cell_type": "code",
      "execution_count": 35,
      "id": "18de0a21",
      "metadata": {
        "colab": {
          "base_uri": "https://localhost:8080/"
        },
        "id": "18de0a21",
        "outputId": "5ca6bb0e-61eb-4a65-83ff-d7a871e4a705"
      },
      "outputs": [
        {
          "output_type": "execute_result",
          "data": {
            "text/plain": [
              "aroma\n",
              "0      39\n",
              "1       1\n",
              "2       1\n",
              "3       1\n",
              "4       1\n",
              "       ..\n",
              "325     4\n",
              "326     1\n",
              "327    10\n",
              "328     2\n",
              "329     2\n",
              "Name: vegetarian, Length: 330, dtype: int64"
            ]
          },
          "metadata": {},
          "execution_count": 35
        }
      ],
      "source": [
        "df.groupby('aroma')['vegetarian'].count()"
      ]
    },
    {
      "cell_type": "code",
      "execution_count": 36,
      "id": "e9eff286",
      "metadata": {
        "colab": {
          "base_uri": "https://localhost:8080/"
        },
        "id": "e9eff286",
        "outputId": "c22b258d-fe9d-41bf-8887-dcc6566f6b93"
      },
      "outputs": [
        {
          "output_type": "execute_result",
          "data": {
            "text/plain": [
              "flavor\n",
              "0       8\n",
              "1       1\n",
              "2       1\n",
              "3       3\n",
              "4       1\n",
              "       ..\n",
              "621     4\n",
              "622     4\n",
              "623    30\n",
              "624     5\n",
              "625    15\n",
              "Name: vegetarian, Length: 626, dtype: int64"
            ]
          },
          "metadata": {},
          "execution_count": 36
        }
      ],
      "source": [
        "df.groupby('flavor')['vegetarian'].count()"
      ]
    },
    {
      "cell_type": "code",
      "execution_count": 37,
      "id": "48323167",
      "metadata": {
        "colab": {
          "base_uri": "https://localhost:8080/"
        },
        "id": "48323167",
        "outputId": "92093d58-3d59-417d-cbb8-bfd06d965ded"
      },
      "outputs": [
        {
          "output_type": "execute_result",
          "data": {
            "text/plain": [
              "array([ 4, 18, 13,  1,  6, 14, 10,  5,  9,  0, 19, 17,  8, 20,  7,  3, 11,\n",
              "        2, 16, 12, 15])"
            ]
          },
          "metadata": {},
          "execution_count": 37
        }
      ],
      "source": [
        "df['milk'].unique()"
      ]
    },
    {
      "cell_type": "code",
      "execution_count": 38,
      "id": "fb8ef739",
      "metadata": {
        "colab": {
          "base_uri": "https://localhost:8080/"
        },
        "id": "fb8ef739",
        "outputId": "e0f234e2-51bf-4a99-8a74-4f55bb20f001"
      },
      "outputs": [
        {
          "output_type": "execute_result",
          "data": {
            "text/plain": [
              "milk\n",
              "0       4\n",
              "1       5\n",
              "2       1\n",
              "3       1\n",
              "4     732\n",
              "5      25\n",
              "6      21\n",
              "7       2\n",
              "8       2\n",
              "9      21\n",
              "10      3\n",
              "11      1\n",
              "12      1\n",
              "13    195\n",
              "14     21\n",
              "15      1\n",
              "16      1\n",
              "17      6\n",
              "18    128\n",
              "19     14\n",
              "20      2\n",
              "Name: vegetarian, dtype: int64"
            ]
          },
          "metadata": {},
          "execution_count": 38
        }
      ],
      "source": [
        "df.groupby('milk')['vegetarian'].count()"
      ]
    },
    {
      "cell_type": "code",
      "execution_count": 39,
      "id": "37b124bb",
      "metadata": {
        "colab": {
          "base_uri": "https://localhost:8080/"
        },
        "id": "37b124bb",
        "outputId": "6d6ecfad-af18-447a-f7ea-ef787df00940"
      },
      "outputs": [
        {
          "output_type": "execute_result",
          "data": {
            "text/plain": [
              "type\n",
              "0      5\n",
              "1      6\n",
              "2     14\n",
              "3      1\n",
              "4      1\n",
              "      ..\n",
              "79     1\n",
              "80     1\n",
              "81     1\n",
              "82    51\n",
              "83     2\n",
              "Name: vegetarian, Length: 84, dtype: int64"
            ]
          },
          "metadata": {},
          "execution_count": 39
        }
      ],
      "source": [
        "df.groupby('type')['vegetarian'].count()"
      ]
    },
    {
      "cell_type": "code",
      "execution_count": 40,
      "id": "0ea65f6f",
      "metadata": {
        "colab": {
          "base_uri": "https://localhost:8080/"
        },
        "id": "0ea65f6f",
        "outputId": "b6ee8c1a-45e2-478e-a5a3-96828be93ad5"
      },
      "outputs": [
        {
          "output_type": "execute_result",
          "data": {
            "text/plain": [
              "producers\n",
              "0      2\n",
              "1      1\n",
              "2      1\n",
              "3      1\n",
              "4      2\n",
              "      ..\n",
              "313    4\n",
              "314    2\n",
              "315    8\n",
              "316    1\n",
              "317    1\n",
              "Name: vegetarian, Length: 318, dtype: int64"
            ]
          },
          "metadata": {},
          "execution_count": 40
        }
      ],
      "source": [
        "df.groupby('producers')['vegetarian'].count()"
      ]
    },
    {
      "cell_type": "code",
      "execution_count": 41,
      "id": "ee64f06f",
      "metadata": {
        "colab": {
          "base_uri": "https://localhost:8080/"
        },
        "id": "ee64f06f",
        "outputId": "adab56b8-b4b8-44ac-f72e-69c2b8e50650"
      },
      "outputs": [
        {
          "output_type": "execute_result",
          "data": {
            "text/plain": [
              "texture\n",
              "0      1\n",
              "1      1\n",
              "2      1\n",
              "3      1\n",
              "4      1\n",
              "      ..\n",
              "304    1\n",
              "305    7\n",
              "306    1\n",
              "307    1\n",
              "308    3\n",
              "Name: vegetarian, Length: 309, dtype: int64"
            ]
          },
          "metadata": {},
          "execution_count": 41
        }
      ],
      "source": [
        "df.groupby('texture')['vegetarian'].count()"
      ]
    },
    {
      "cell_type": "code",
      "execution_count": 42,
      "id": "bf9a63a7",
      "metadata": {
        "colab": {
          "base_uri": "https://localhost:8080/"
        },
        "id": "bf9a63a7",
        "outputId": "fbb145c1-25a1-4d03-a0ea-ad3757741632"
      },
      "outputs": [
        {
          "output_type": "execute_result",
          "data": {
            "text/plain": [
              "color\n",
              "0      19\n",
              "1       2\n",
              "2       8\n",
              "3      11\n",
              "4      86\n",
              "5       6\n",
              "6      28\n",
              "7       6\n",
              "8     143\n",
              "9      21\n",
              "10      8\n",
              "11    270\n",
              "12      2\n",
              "13      2\n",
              "14     43\n",
              "15    423\n",
              "16    109\n",
              "Name: vegetarian, dtype: int64"
            ]
          },
          "metadata": {},
          "execution_count": 42
        }
      ],
      "source": [
        "df.groupby('color')['vegetarian'].count()"
      ]
    },
    {
      "cell_type": "code",
      "execution_count": 43,
      "id": "0fdccf79",
      "metadata": {
        "colab": {
          "base_uri": "https://localhost:8080/",
          "height": 466
        },
        "id": "0fdccf79",
        "outputId": "6dcb2f76-3079-4b4c-ad17-ca19356479ff"
      },
      "outputs": [
        {
          "output_type": "execute_result",
          "data": {
            "text/plain": [
              "<Axes: xlabel='milk', ylabel='vegetarian'>"
            ]
          },
          "metadata": {},
          "execution_count": 43
        },
        {
          "output_type": "display_data",
          "data": {
            "text/plain": [
              "<Figure size 640x480 with 1 Axes>"
            ],
            "image/png": "[encoded data removed]"
          },
          "metadata": {}
        }
      ],
      "source": [
        "sns.histplot(x='milk',y='vegetarian',color='green',data=df)"
      ]
    },
    {
      "cell_type": "code",
      "execution_count": 44,
      "id": "73fe47e9",
      "metadata": {
        "colab": {
          "base_uri": "https://localhost:8080/",
          "height": 466
        },
        "id": "73fe47e9",
        "outputId": "e55bb418-6537-47e1-b679-bb878e524473"
      },
      "outputs": [
        {
          "output_type": "execute_result",
          "data": {
            "text/plain": [
              "<Axes: xlabel='vegetarian', ylabel='country'>"
            ]
          },
          "metadata": {},
          "execution_count": 44
        },
        {
          "output_type": "display_data",
          "data": {
            "text/plain": [
              "<Figure size 640x480 with 1 Axes>"
            ],
            "image/png": "[encoded data removed]"
          },
          "metadata": {}
        }
      ],
      "source": [
        "sns.histplot(x='vegetarian',y='country',data=df,color='red')"
      ]
    },
    {
      "cell_type": "code",
      "execution_count": 45,
      "id": "bcb84b01",
      "metadata": {
        "colab": {
          "base_uri": "https://localhost:8080/",
          "height": 466
        },
        "id": "bcb84b01",
        "outputId": "21b28489-ab82-428b-9395-f7b7adf858a3"
      },
      "outputs": [
        {
          "output_type": "execute_result",
          "data": {
            "text/plain": [
              "<Axes: xlabel='producers', ylabel='Count'>"
            ]
          },
          "metadata": {},
          "execution_count": 45
        },
        {
          "output_type": "display_data",
          "data": {
            "text/plain": [
              "<Figure size 640x480 with 1 Axes>"
            ],
            "image/png": "[encoded data removed]"
          },
          "metadata": {}
        }
      ],
      "source": [
        "custom_palette = ['#FF6347', '#4682B4']\n",
        "sns.histplot(x='producers',hue='vegetarian',palette=custom_palette,data=df)"
      ]
    },
    {
      "cell_type": "code",
      "execution_count": 46,
      "id": "fdbc1af1",
      "metadata": {
        "colab": {
          "base_uri": "https://localhost:8080/",
          "height": 466
        },
        "id": "fdbc1af1",
        "outputId": "d3e1016b-f4d3-480b-b022-a4530ce6e6bc"
      },
      "outputs": [
        {
          "output_type": "execute_result",
          "data": {
            "text/plain": [
              "<Axes: xlabel='type', ylabel='Count'>"
            ]
          },
          "metadata": {},
          "execution_count": 46
        },
        {
          "output_type": "display_data",
          "data": {
            "text/plain": [
              "<Figure size 640x480 with 1 Axes>"
            ],
            "image/png": "[encoded data removed]"
          },
          "metadata": {}
        }
      ],
      "source": [
        "custom_palette = ['#FF6347', '#4682B4']\n",
        "sns.histplot(x='type',hue='vegetarian',palette=custom_palette,data=df)"
      ]
    },
    {
      "cell_type": "code",
      "execution_count": 47,
      "id": "63e937e0",
      "metadata": {
        "colab": {
          "base_uri": "https://localhost:8080/",
          "height": 466
        },
        "id": "63e937e0",
        "outputId": "1d8c9065-04b2-4997-e15c-8aa9813e607f"
      },
      "outputs": [
        {
          "output_type": "execute_result",
          "data": {
            "text/plain": [
              "<Axes: xlabel='flavor', ylabel='Count'>"
            ]
          },
          "metadata": {},
          "execution_count": 47
        },
        {
          "output_type": "display_data",
          "data": {
            "text/plain": [
              "<Figure size 640x480 with 1 Axes>"
            ],
            "image/png": "[encoded data removed]"
          },
          "metadata": {}
        }
      ],
      "source": [
        "custom_palette = ['#FF6347', '#4682B4']\n",
        "sns.histplot(x='flavor',hue='vegetarian',palette='Set1',data=df)"
      ]
    },
    {
      "cell_type": "code",
      "execution_count": 48,
      "id": "36025856",
      "metadata": {
        "colab": {
          "base_uri": "https://localhost:8080/",
          "height": 470
        },
        "id": "36025856",
        "outputId": "4216e3c0-cfa8-4689-aea4-ce79002380ff"
      },
      "outputs": [
        {
          "output_type": "execute_result",
          "data": {
            "text/plain": [
              "<Axes: xlabel='aroma', ylabel='Count'>"
            ]
          },
          "metadata": {},
          "execution_count": 48
        },
        {
          "output_type": "display_data",
          "data": {
            "text/plain": [
              "<Figure size 640x480 with 1 Axes>"
            ],
            "image/png": "[encoded data removed]"
          },
          "metadata": {}
        }
      ],
      "source": [
        "custom_palette = ['#FF6347', '#4682B4']\n",
        "sns.histplot(x='aroma',hue='vegetarian',palette=custom_palette,data=df)"
      ]
    },
    {
      "cell_type": "code",
      "execution_count": 49,
      "id": "c7dd6e47",
      "metadata": {
        "colab": {
          "base_uri": "https://localhost:8080/",
          "height": 469
        },
        "id": "c7dd6e47",
        "outputId": "e4c52b13-c2e5-4f96-f1e2-89485f40c2e2"
      },
      "outputs": [
        {
          "output_type": "execute_result",
          "data": {
            "text/plain": [
              "<Axes: xlabel='texture', ylabel='Count'>"
            ]
          },
          "metadata": {},
          "execution_count": 49
        },
        {
          "output_type": "display_data",
          "data": {
            "text/plain": [
              "<Figure size 640x480 with 1 Axes>"
            ],
            "image/png": "[encoded data removed]"
          },
          "metadata": {}
        }
      ],
      "source": [
        "custom_palette = ['#FF6347', '#4682B4']\n",
        "sns.histplot(x='texture',hue='vegetarian',palette='Set3',data=df)"
      ]
    },
    {
      "cell_type": "code",
      "execution_count": 50,
      "id": "f8de3d47",
      "metadata": {
        "colab": {
          "base_uri": "https://localhost:8080/"
        },
        "id": "f8de3d47",
        "outputId": "26c63e12-6a94-4481-e0da-aea188fde475"
      },
      "outputs": [
        {
          "output_type": "stream",
          "name": "stdout",
          "text": [
            "<class 'pandas.core.frame.DataFrame'>\n",
            "RangeIndex: 1187 entries, 0 to 1186\n",
            "Data columns (total 9 columns):\n",
            " #   Column      Non-Null Count  Dtype\n",
            "---  ------      --------------  -----\n",
            " 0   milk        1187 non-null   int64\n",
            " 1   country     1187 non-null   int64\n",
            " 2   type        1187 non-null   int64\n",
            " 3   texture     1187 non-null   int64\n",
            " 4   color       1187 non-null   int64\n",
            " 5   flavor      1187 non-null   int64\n",
            " 6   aroma       1187 non-null   int64\n",
            " 7   vegetarian  1187 non-null   int64\n",
            " 8   producers   1187 non-null   int64\n",
            "dtypes: int64(9)\n",
            "memory usage: 83.6 KB\n"
          ]
        }
      ],
      "source": [
        "df.info()"
      ]
    },
    {
      "cell_type": "code",
      "execution_count": 51,
      "id": "90f66878",
      "metadata": {
        "id": "90f66878"
      },
      "outputs": [],
      "source": [
        "X=df.drop('vegetarian',axis=1)"
      ]
    },
    {
      "cell_type": "code",
      "execution_count": 52,
      "id": "e4b50cf8",
      "metadata": {
        "id": "e4b50cf8"
      },
      "outputs": [],
      "source": [
        "y=df['vegetarian']"
      ]
    },
    {
      "cell_type": "code",
      "execution_count": 53,
      "id": "ba22766b",
      "metadata": {
        "colab": {
          "base_uri": "https://localhost:8080/",
          "height": 423
        },
        "id": "ba22766b",
        "outputId": "3704af41-d43f-4216-e479-cf773a317180"
      },
      "outputs": [
        {
          "output_type": "execute_result",
          "data": {
            "text/plain": [
              "      milk  country  type  texture  color  flavor  aroma  producers\n",
              "0        4       75    48       12     16     623     51        167\n",
              "1       18       36    40      120     16      73    242        258\n",
              "2        4       36    39      251      8     225      0        258\n",
              "3        4       36    51      122     15      37     46        258\n",
              "4        4       36    63      157     15     367    284        258\n",
              "...    ...      ...   ...      ...    ...     ...    ...        ...\n",
              "1182     4       74    44      193     11       0    303        258\n",
              "1183    13        4     9      100     15      17    138        312\n",
              "1184    18       30    21      293     16     608    126        258\n",
              "1185     4       75    40      278     15     514    281        258\n",
              "1186     4       80    24      264     11     532    303        297\n",
              "\n",
              "[1187 rows x 8 columns]"
            ],
            "text/html": [
              "\n",
              "  <div id=\"df-ddfdae18-f070-4a35-968c-ba07eca8dd7b\" class=\"colab-df-container\">\n",
              "    <div>\n",
              "<style scoped>\n",
              "    .dataframe tbody tr th:only-of-type {\n",
              "        vertical-align: middle;\n",
              "    }\n",
              "\n",
              "    .dataframe tbody tr th {\n",
              "        vertical-align: top;\n",
              "    }\n",
              "\n",
              "    .dataframe thead th {\n",
              "        text-align: right;\n",
              "    }\n",
              "</style>\n",
              "<table border=\"1\" class=\"dataframe\">\n",
              "  <thead>\n",
              "    <tr style=\"text-align: right;\">\n",
              "      <th></th>\n",
              "      <th>milk</th>\n",
              "      <th>country</th>\n",
              "      <th>type</th>\n",
              "      <th>texture</th>\n",
              "      <th>color</th>\n",
              "      <th>flavor</th>\n",
              "      <th>aroma</th>\n",
              "      <th>producers</th>\n",
              "    </tr>\n",
              "  </thead>\n",
              "  <tbody>\n",
              "    <tr>\n",
              "      <th>0</th>\n",
              "      <td>4</td>\n",
              "      <td>75</td>\n",
              "      <td>48</td>\n",
              "      <td>12</td>\n",
              "      <td>16</td>\n",
              "      <td>623</td>\n",
              "      <td>51</td>\n",
              "      <td>167</td>\n",
              "    </tr>\n",
              "    <tr>\n",
              "      <th>1</th>\n",
              "      <td>18</td>\n",
              "      <td>36</td>\n",
              "      <td>40</td>\n",
              "      <td>120</td>\n",
              "      <td>16</td>\n",
              "      <td>73</td>\n",
              "      <td>242</td>\n",
              "      <td>258</td>\n",
              "    </tr>\n",
              "    <tr>\n",
              "      <th>2</th>\n",
              "      <td>4</td>\n",
              "      <td>36</td>\n",
              "      <td>39</td>\n",
              "      <td>251</td>\n",
              "      <td>8</td>\n",
              "      <td>225</td>\n",
              "      <td>0</td>\n",
              "      <td>258</td>\n",
              "    </tr>\n",
              "    <tr>\n",
              "      <th>3</th>\n",
              "      <td>4</td>\n",
              "      <td>36</td>\n",
              "      <td>51</td>\n",
              "      <td>122</td>\n",
              "      <td>15</td>\n",
              "      <td>37</td>\n",
              "      <td>46</td>\n",
              "      <td>258</td>\n",
              "    </tr>\n",
              "    <tr>\n",
              "      <th>4</th>\n",
              "      <td>4</td>\n",
              "      <td>36</td>\n",
              "      <td>63</td>\n",
              "      <td>157</td>\n",
              "      <td>15</td>\n",
              "      <td>367</td>\n",
              "      <td>284</td>\n",
              "      <td>258</td>\n",
              "    </tr>\n",
              "    <tr>\n",
              "      <th>...</th>\n",
              "      <td>...</td>\n",
              "      <td>...</td>\n",
              "      <td>...</td>\n",
              "      <td>...</td>\n",
              "      <td>...</td>\n",
              "      <td>...</td>\n",
              "      <td>...</td>\n",
              "      <td>...</td>\n",
              "    </tr>\n",
              "    <tr>\n",
              "      <th>1182</th>\n",
              "      <td>4</td>\n",
              "      <td>74</td>\n",
              "      <td>44</td>\n",
              "      <td>193</td>\n",
              "      <td>11</td>\n",
              "      <td>0</td>\n",
              "      <td>303</td>\n",
              "      <td>258</td>\n",
              "    </tr>\n",
              "    <tr>\n",
              "      <th>1183</th>\n",
              "      <td>13</td>\n",
              "      <td>4</td>\n",
              "      <td>9</td>\n",
              "      <td>100</td>\n",
              "      <td>15</td>\n",
              "      <td>17</td>\n",
              "      <td>138</td>\n",
              "      <td>312</td>\n",
              "    </tr>\n",
              "    <tr>\n",
              "      <th>1184</th>\n",
              "      <td>18</td>\n",
              "      <td>30</td>\n",
              "      <td>21</td>\n",
              "      <td>293</td>\n",
              "      <td>16</td>\n",
              "      <td>608</td>\n",
              "      <td>126</td>\n",
              "      <td>258</td>\n",
              "    </tr>\n",
              "    <tr>\n",
              "      <th>1185</th>\n",
              "      <td>4</td>\n",
              "      <td>75</td>\n",
              "      <td>40</td>\n",
              "      <td>278</td>\n",
              "      <td>15</td>\n",
              "      <td>514</td>\n",
              "      <td>281</td>\n",
              "      <td>258</td>\n",
              "    </tr>\n",
              "    <tr>\n",
              "      <th>1186</th>\n",
              "      <td>4</td>\n",
              "      <td>80</td>\n",
              "      <td>24</td>\n",
              "      <td>264</td>\n",
              "      <td>11</td>\n",
              "      <td>532</td>\n",
              "      <td>303</td>\n",
              "      <td>297</td>\n",
              "    </tr>\n",
              "  </tbody>\n",
              "</table>\n",
              "<p>1187 rows × 8 columns</p>\n",
              "</div>\n",
              "    <div class=\"colab-df-buttons\">\n",
              "\n",
              "  <div class=\"colab-df-container\">\n",
              "    <button class=\"colab-df-convert\" onclick=\"convertToInteractive('df-ddfdae18-f070-4a35-968c-ba07eca8dd7b')\"\n",
              "            title=\"Convert this dataframe to an interactive table.\"\n",
              "            style=\"display:none;\">\n",
              "\n",
              "  <svg xmlns=\"http://www.w3.org/2000/svg\" height=\"24px\" viewBox=\"0 -960 960 960\">\n",
              "    <path d=\"M120-120v-720h720v720H120Zm60-500h600v-160H180v160Zm220 220h160v-160H400v160Zm0 220h160v-160H400v160ZM180-400h160v-160H180v160Zm440 0h160v-160H620v160ZM180-180h160v-160H180v160Zm440 0h160v-160H620v160Z\"/>\n",
              "  </svg>\n",
              "    </button>\n",
              "\n",
              "  <style>\n",
              "    .colab-df-container {\n",
              "      display:flex;\n",
              "      gap: 12px;\n",
              "    }\n",
              "\n",
              "    .colab-df-convert {\n",
              "      background-color: #E8F0FE;\n",
              "      border: none;\n",
              "      border-radius: 50%;\n",
              "      cursor: pointer;\n",
              "      display: none;\n",
              "      fill: #1967D2;\n",
              "      height: 32px;\n",
              "      padding: 0 0 0 0;\n",
              "      width: 32px;\n",
              "    }\n",
              "\n",
              "    .colab-df-convert:hover {\n",
              "      background-color: #E2EBFA;\n",
              "      box-shadow: 0px 1px 2px rgba(60, 64, 67, 0.3), 0px 1px 3px 1px rgba(60, 64, 67, 0.15);\n",
              "      fill: #174EA6;\n",
              "    }\n",
              "\n",
              "    .colab-df-buttons div {\n",
              "      margin-bottom: 4px;\n",
              "    }\n",
              "\n",
              "    [theme=dark] .colab-df-convert {\n",
              "      background-color: #3B4455;\n",
              "      fill: #D2E3FC;\n",
              "    }\n",
              "\n",
              "    [theme=dark] .colab-df-convert:hover {\n",
              "      background-color: #434B5C;\n",
              "      box-shadow: 0px 1px 3px 1px rgba(0, 0, 0, 0.15);\n",
              "      filter: drop-shadow(0px 1px 2px rgba(0, 0, 0, 0.3));\n",
              "      fill: #FFFFFF;\n",
              "    }\n",
              "  </style>\n",
              "\n",
              "    <script>\n",
              "      const buttonEl =\n",
              "        document.querySelector('#df-ddfdae18-f070-4a35-968c-ba07eca8dd7b button.colab-df-convert');\n",
              "      buttonEl.style.display =\n",
              "        google.colab.kernel.accessAllowed ? 'block' : 'none';\n",
              "\n",
              "      async function convertToInteractive(key) {\n",
              "        const element = document.querySelector('#df-ddfdae18-f070-4a35-968c-ba07eca8dd7b');\n",
              "        const dataTable =\n",
              "          await google.colab.kernel.invokeFunction('convertToInteractive',\n",
              "                                                    [key], {});\n",
              "        if (!dataTable) return;\n",
              "\n",
              "        const docLinkHtml = 'Like what you see? Visit the ' +\n",
              "          '<a target=\"_blank\" href=https://colab.research.google.com/notebooks/data_table.ipynb>data table notebook</a>'\n",
              "          + ' to learn more about interactive tables.';\n",
              "        element.innerHTML = '';\n",
              "        dataTable['output_type'] = 'display_data';\n",
              "        await google.colab.output.renderOutput(dataTable, element);\n",
              "        const docLink = document.createElement('div');\n",
              "        docLink.innerHTML = docLinkHtml;\n",
              "        element.appendChild(docLink);\n",
              "      }\n",
              "    </script>\n",
              "  </div>\n",
              "\n",
              "\n",
              "<div id=\"df-a445ec16-5fd6-4f13-a2d8-76efba0068be\">\n",
              "  <button class=\"colab-df-quickchart\" onclick=\"quickchart('df-a445ec16-5fd6-4f13-a2d8-76efba0068be')\"\n",
              "            title=\"Suggest charts\"\n",
              "            style=\"display:none;\">\n",
              "\n",
              "<svg xmlns=\"http://www.w3.org/2000/svg\" height=\"24px\"viewBox=\"0 0 24 24\"\n",
              "     width=\"24px\">\n",
              "    <g>\n",
              "        <path d=\"M19 3H5c-1.1 0-2 .9-2 2v14c0 1.1.9 2 2 2h14c1.1 0 2-.9 2-2V5c0-1.1-.9-2-2-2zM9 17H7v-7h2v7zm4 0h-2V7h2v10zm4 0h-2v-4h2v4z\"/>\n",
              "    </g>\n",
              "</svg>\n",
              "  </button>\n",
              "\n",
              "<style>\n",
              "  .colab-df-quickchart {\n",
              "      --bg-color: #E8F0FE;\n",
              "      --fill-color: #1967D2;\n",
              "      --hover-bg-color: #E2EBFA;\n",
              "      --hover-fill-color: #174EA6;\n",
              "      --disabled-fill-color: #AAA;\n",
              "      --disabled-bg-color: #DDD;\n",
              "  }\n",
              "\n",
              "  [theme=dark] .colab-df-quickchart {\n",
              "      --bg-color: #3B4455;\n",
              "      --fill-color: #D2E3FC;\n",
              "      --hover-bg-color: #434B5C;\n",
              "      --hover-fill-color: #FFFFFF;\n",
              "      --disabled-bg-color: #3B4455;\n",
              "      --disabled-fill-color: #666;\n",
              "  }\n",
              "\n",
              "  .colab-df-quickchart {\n",
              "    background-color: var(--bg-color);\n",
              "    border: none;\n",
              "    border-radius: 50%;\n",
              "    cursor: pointer;\n",
              "    display: none;\n",
              "    fill: var(--fill-color);\n",
              "    height: 32px;\n",
              "    padding: 0;\n",
              "    width: 32px;\n",
              "  }\n",
              "\n",
              "  .colab-df-quickchart:hover {\n",
              "    background-color: var(--hover-bg-color);\n",
              "    box-shadow: 0 1px 2px rgba(60, 64, 67, 0.3), 0 1px 3px 1px rgba(60, 64, 67, 0.15);\n",
              "    fill: var(--button-hover-fill-color);\n",
              "  }\n",
              "\n",
              "  .colab-df-quickchart-complete:disabled,\n",
              "  .colab-df-quickchart-complete:disabled:hover {\n",
              "    background-color: var(--disabled-bg-color);\n",
              "    fill: var(--disabled-fill-color);\n",
              "    box-shadow: none;\n",
              "  }\n",
              "\n",
              "  .colab-df-spinner {\n",
              "    border: 2px solid var(--fill-color);\n",
              "    border-color: transparent;\n",
              "    border-bottom-color: var(--fill-color);\n",
              "    animation:\n",
              "      spin 1s steps(1) infinite;\n",
              "  }\n",
              "\n",
              "  @keyframes spin {\n",
              "    0% {\n",
              "      border-color: transparent;\n",
              "      border-bottom-color: var(--fill-color);\n",
              "      border-left-color: var(--fill-color);\n",
              "    }\n",
              "    20% {\n",
              "      border-color: transparent;\n",
              "      border-left-color: var(--fill-color);\n",
              "      border-top-color: var(--fill-color);\n",
              "    }\n",
              "    30% {\n",
              "      border-color: transparent;\n",
              "      border-left-color: var(--fill-color);\n",
              "      border-top-color: var(--fill-color);\n",
              "      border-right-color: var(--fill-color);\n",
              "    }\n",
              "    40% {\n",
              "      border-color: transparent;\n",
              "      border-right-color: var(--fill-color);\n",
              "      border-top-color: var(--fill-color);\n",
              "    }\n",
              "    60% {\n",
              "      border-color: transparent;\n",
              "      border-right-color: var(--fill-color);\n",
              "    }\n",
              "    80% {\n",
              "      border-color: transparent;\n",
              "      border-right-color: var(--fill-color);\n",
              "      border-bottom-color: var(--fill-color);\n",
              "    }\n",
              "    90% {\n",
              "      border-color: transparent;\n",
              "      border-bottom-color: var(--fill-color);\n",
              "    }\n",
              "  }\n",
              "</style>\n",
              "\n",
              "  <script>\n",
              "    async function quickchart(key) {\n",
              "      const quickchartButtonEl =\n",
              "        document.querySelector('#' + key + ' button');\n",
              "      quickchartButtonEl.disabled = true;  // To prevent multiple clicks.\n",
              "      quickchartButtonEl.classList.add('colab-df-spinner');\n",
              "      try {\n",
              "        const charts = await google.colab.kernel.invokeFunction(\n",
              "            'suggestCharts', [key], {});\n",
              "      } catch (error) {\n",
              "        console.error('Error during call to suggestCharts:', error);\n",
              "      }\n",
              "      quickchartButtonEl.classList.remove('colab-df-spinner');\n",
              "      quickchartButtonEl.classList.add('colab-df-quickchart-complete');\n",
              "    }\n",
              "    (() => {\n",
              "      let quickchartButtonEl =\n",
              "        document.querySelector('#df-a445ec16-5fd6-4f13-a2d8-76efba0068be button');\n",
              "      quickchartButtonEl.style.display =\n",
              "        google.colab.kernel.accessAllowed ? 'block' : 'none';\n",
              "    })();\n",
              "  </script>\n",
              "</div>\n",
              "\n",
              "  <div id=\"id_fe403dd9-d41d-4743-b822-7953a70f9cac\">\n",
              "    <style>\n",
              "      .colab-df-generate {\n",
              "        background-color: #E8F0FE;\n",
              "        border: none;\n",
              "        border-radius: 50%;\n",
              "        cursor: pointer;\n",
              "        display: none;\n",
              "        fill: #1967D2;\n",
              "        height: 32px;\n",
              "        padding: 0 0 0 0;\n",
              "        width: 32px;\n",
              "      }\n",
              "\n",
              "      .colab-df-generate:hover {\n",
              "        background-color: #E2EBFA;\n",
              "        box-shadow: 0px 1px 2px rgba(60, 64, 67, 0.3), 0px 1px 3px 1px rgba(60, 64, 67, 0.15);\n",
              "        fill: #174EA6;\n",
              "      }\n",
              "\n",
              "      [theme=dark] .colab-df-generate {\n",
              "        background-color: #3B4455;\n",
              "        fill: #D2E3FC;\n",
              "      }\n",
              "\n",
              "      [theme=dark] .colab-df-generate:hover {\n",
              "        background-color: #434B5C;\n",
              "        box-shadow: 0px 1px 3px 1px rgba(0, 0, 0, 0.15);\n",
              "        filter: drop-shadow(0px 1px 2px rgba(0, 0, 0, 0.3));\n",
              "        fill: #FFFFFF;\n",
              "      }\n",
              "    </style>\n",
              "    <button class=\"colab-df-generate\" onclick=\"generateWithVariable('X')\"\n",
              "            title=\"Generate code using this dataframe.\"\n",
              "            style=\"display:none;\">\n",
              "\n",
              "  <svg xmlns=\"http://www.w3.org/2000/svg\" height=\"24px\"viewBox=\"0 0 24 24\"\n",
              "       width=\"24px\">\n",
              "    <path d=\"M7,19H8.4L18.45,9,17,7.55,7,17.6ZM5,21V16.75L18.45,3.32a2,2,0,0,1,2.83,0l1.4,1.43a1.91,1.91,0,0,1,.58,1.4,1.91,1.91,0,0,1-.58,1.4L9.25,21ZM18.45,9,17,7.55Zm-12,3A5.31,5.31,0,0,0,4.9,8.1,5.31,5.31,0,0,0,1,6.5,5.31,5.31,0,0,0,4.9,4.9,5.31,5.31,0,0,0,6.5,1,5.31,5.31,0,0,0,8.1,4.9,5.31,5.31,0,0,0,12,6.5,5.46,5.46,0,0,0,6.5,12Z\"/>\n",
              "  </svg>\n",
              "    </button>\n",
              "    <script>\n",
              "      (() => {\n",
              "      const buttonEl =\n",
              "        document.querySelector('#id_fe403dd9-d41d-4743-b822-7953a70f9cac button.colab-df-generate');\n",
              "      buttonEl.style.display =\n",
              "        google.colab.kernel.accessAllowed ? 'block' : 'none';\n",
              "\n",
              "      buttonEl.onclick = () => {\n",
              "        google.colab.notebook.generateWithVariable('X');\n",
              "      }\n",
              "      })();\n",
              "    </script>\n",
              "  </div>\n",
              "\n",
              "    </div>\n",
              "  </div>\n"
            ],
            "application/vnd.google.colaboratory.intrinsic+json": {
              "type": "dataframe",
              "variable_name": "X",
              "summary": "{\n  \"name\": \"X\",\n  \"rows\": 1187,\n  \"fields\": [\n    {\n      \"column\": \"milk\",\n      \"properties\": {\n        \"dtype\": \"number\",\n        \"std\": 5,\n        \"min\": 0,\n        \"max\": 20,\n        \"num_unique_values\": 21,\n        \"samples\": [\n          4,\n          2,\n          3\n        ],\n        \"semantic_type\": \"\",\n        \"description\": \"\"\n      }\n    },\n    {\n      \"column\": \"country\",\n      \"properties\": {\n        \"dtype\": \"number\",\n        \"std\": 24,\n        \"min\": 0,\n        \"max\": 81,\n        \"num_unique_values\": 82,\n        \"samples\": [\n          62,\n          75,\n          45\n        ],\n        \"semantic_type\": \"\",\n        \"description\": \"\"\n      }\n    },\n    {\n      \"column\": \"type\",\n      \"properties\": {\n        \"dtype\": \"number\",\n        \"std\": 19,\n        \"min\": 0,\n        \"max\": 83,\n        \"num_unique_values\": 84,\n        \"samples\": [\n          83,\n          48,\n          67\n        ],\n        \"semantic_type\": \"\",\n        \"description\": \"\"\n      }\n    },\n    {\n      \"column\": \"texture\",\n      \"properties\": {\n        \"dtype\": \"number\",\n        \"std\": 81,\n        \"min\": 0,\n        \"max\": 308,\n        \"num_unique_values\": 309,\n        \"samples\": [\n          69,\n          99,\n          17\n        ],\n        \"semantic_type\": \"\",\n        \"description\": \"\"\n      }\n    },\n    {\n      \"column\": \"color\",\n      \"properties\": {\n        \"dtype\": \"number\",\n        \"std\": 4,\n        \"min\": 0,\n        \"max\": 16,\n        \"num_unique_values\": 17,\n        \"samples\": [\n          16,\n          8,\n          9\n        ],\n        \"semantic_type\": \"\",\n        \"description\": \"\"\n      }\n    },\n    {\n      \"column\": \"flavor\",\n      \"properties\": {\n        \"dtype\": \"number\",\n        \"std\": 182,\n        \"min\": 0,\n        \"max\": 625,\n        \"num_unique_values\": 626,\n        \"samples\": [\n          113,\n          334,\n          519\n        ],\n        \"semantic_type\": \"\",\n        \"description\": \"\"\n      }\n    },\n    {\n      \"column\": \"aroma\",\n      \"properties\": {\n        \"dtype\": \"number\",\n        \"std\": 103,\n        \"min\": 0,\n        \"max\": 329,\n        \"num_unique_values\": 330,\n        \"samples\": [\n          146,\n          171,\n          215\n        ],\n        \"semantic_type\": \"\",\n        \"description\": \"\"\n      }\n    },\n    {\n      \"column\": \"producers\",\n      \"properties\": {\n        \"dtype\": \"number\",\n        \"std\": 82,\n        \"min\": 0,\n        \"max\": 317,\n        \"num_unique_values\": 318,\n        \"samples\": [\n          123,\n          238,\n          160\n        ],\n        \"semantic_type\": \"\",\n        \"description\": \"\"\n      }\n    }\n  ]\n}"
            }
          },
          "metadata": {},
          "execution_count": 53
        }
      ],
      "source": [
        "X"
      ]
    },
    {
      "cell_type": "code",
      "execution_count": 54,
      "id": "33223b61",
      "metadata": {
        "colab": {
          "base_uri": "https://localhost:8080/"
        },
        "id": "33223b61",
        "outputId": "985d5b4a-5b2b-4786-bf78-e7cb0e97e695"
      },
      "outputs": [
        {
          "output_type": "execute_result",
          "data": {
            "text/plain": [
              "0       0\n",
              "1       1\n",
              "2       0\n",
              "3       0\n",
              "4       0\n",
              "       ..\n",
              "1182    0\n",
              "1183    1\n",
              "1184    1\n",
              "1185    0\n",
              "1186    1\n",
              "Name: vegetarian, Length: 1187, dtype: int64"
            ]
          },
          "metadata": {},
          "execution_count": 54
        }
      ],
      "source": [
        "y"
      ]
    },
    {
      "cell_type": "code",
      "execution_count": 55,
      "id": "a4efa5a7",
      "metadata": {
        "id": "a4efa5a7"
      },
      "outputs": [],
      "source": [
        "from sklearn.preprocessing import StandardScaler\n",
        "scaler=StandardScaler()\n",
        "X=scaler.fit_transform(X)"
      ]
    },
    {
      "cell_type": "code",
      "execution_count": 56,
      "id": "8c985566",
      "metadata": {
        "id": "8c985566"
      },
      "outputs": [],
      "source": [
        "from sklearn.model_selection import train_test_split\n",
        "X_train,X_test,y_train,y_test=train_test_split(X,y,test_size=0.35)"
      ]
    },
    {
      "cell_type": "code",
      "execution_count": 57,
      "id": "43e46f5f",
      "metadata": {
        "colab": {
          "base_uri": "https://localhost:8080/"
        },
        "id": "43e46f5f",
        "outputId": "6b505956-3ed9-4dc9-ef33-a4e71826fe4e"
      },
      "outputs": [
        {
          "output_type": "execute_result",
          "data": {
            "text/plain": [
              "{'K-Nearest Neighbors': 0.6802884615384616,\n",
              " 'Logistic Regression': 0.7091346153846154,\n",
              " 'Decision Tree': 0.7067307692307693,\n",
              " 'Support Vector Machine': 0.7307692307692307,\n",
              " 'Random Forest': 0.7644230769230769}"
            ]
          },
          "metadata": {},
          "execution_count": 57
        }
      ],
      "source": [
        "from sklearn.neighbors import KNeighborsClassifier\n",
        "from sklearn.linear_model import LogisticRegression\n",
        "from sklearn.tree import DecisionTreeClassifier\n",
        "from sklearn.svm import SVC\n",
        "from sklearn.ensemble import RandomForestClassifier\n",
        "from sklearn.metrics import accuracy_score\n",
        "\n",
        "# Initialize the models\n",
        "knn = KNeighborsClassifier()\n",
        "log_reg = LogisticRegression()\n",
        "decision_tree = DecisionTreeClassifier()\n",
        "svm = SVC()\n",
        "random_forest=RandomForestClassifier()\n",
        "\n",
        "models = {\n",
        "    'K-Nearest Neighbors': knn,\n",
        "    'Logistic Regression': log_reg,\n",
        "    'Decision Tree': decision_tree,\n",
        "    'Support Vector Machine': svm,\n",
        "    'Random Forest': random_forest\n",
        "}\n",
        "accuracies = {}\n",
        "for model_name, model in models.items():\n",
        "    # Train the model\n",
        "    model.fit(X_train, y_train)\n",
        "\n",
        "    y_pred = model.predict(X_test)\n",
        "\n",
        "    accuracy = accuracy_score(y_test, y_pred)\n",
        "    accuracies[model_name] = accuracy\n",
        "\n",
        "accuracies"
      ]
    },
    {
      "cell_type": "markdown",
      "id": "5742fa16",
      "metadata": {
        "id": "5742fa16"
      },
      "source": [
        "# HyperParameter Tuning"
      ]
    },
    {
      "cell_type": "code",
      "execution_count": 63,
      "id": "c28c2727",
      "metadata": {
        "id": "c28c2727"
      },
      "outputs": [],
      "source": [
        "param_grid=[{\n",
        "    'n_estimators':[250,500,750,1000],\n",
        "    'criterion':['gini','entropy'],\n",
        "    'min_samples_split':[5,10,15],\n",
        "    'min_samples_leaf':[1,2,4],\n",
        "    'max_depth':[10,20,30]\n",
        "}]"
      ]
    },
    {
      "cell_type": "code",
      "execution_count": 64,
      "id": "5fbb77cf",
      "metadata": {
        "id": "5fbb77cf"
      },
      "outputs": [],
      "source": [
        "from sklearn.model_selection import GridSearchCV"
      ]
    },
    {
      "cell_type": "code",
      "execution_count": 67,
      "id": "99e9ae21",
      "metadata": {
        "id": "99e9ae21"
      },
      "outputs": [],
      "source": [
        "grid_search= GridSearchCV(random_forest,\n",
        "                         param_grid,\n",
        "                         cv=3,scoring='accuracy',\n",
        "                          n_jobs=-1,\n",
        "                         )"
      ]
    },
    {
      "cell_type": "code",
      "source": [
        "y_pred"
      ],
      "metadata": {
        "colab": {
          "base_uri": "https://localhost:8080/"
        },
        "id": "SJHOkJJsIRFm",
        "outputId": "59632d07-56dd-4243-805a-ce11088ecbf9"
      },
      "id": "SJHOkJJsIRFm",
      "execution_count": 68,
      "outputs": [
        {
          "output_type": "execute_result",
          "data": {
            "text/plain": [
              "array([0, 0, 1, 0, 0, 0, 0, 0, 0, 0, 0, 0, 0, 0, 0, 1, 0, 0, 0, 1, 0, 1,\n",
              "       0, 0, 1, 0, 0, 0, 0, 0, 0, 0, 0, 0, 0, 0, 0, 0, 1, 0, 0, 0, 1, 0,\n",
              "       0, 1, 0, 1, 0, 0, 0, 0, 1, 0, 0, 1, 0, 0, 1, 0, 1, 0, 1, 0, 0, 0,\n",
              "       0, 0, 0, 0, 0, 1, 0, 0, 0, 0, 0, 1, 1, 0, 0, 0, 0, 0, 0, 0, 1, 0,\n",
              "       0, 0, 0, 0, 0, 1, 0, 1, 0, 0, 0, 0, 0, 0, 0, 0, 0, 1, 0, 1, 0, 0,\n",
              "       0, 1, 0, 0, 0, 0, 0, 1, 1, 0, 0, 0, 0, 0, 0, 1, 0, 0, 1, 0, 0, 1,\n",
              "       0, 0, 0, 1, 0, 0, 1, 0, 1, 0, 0, 1, 0, 0, 0, 0, 0, 0, 0, 0, 0, 0,\n",
              "       0, 0, 0, 0, 1, 0, 0, 0, 0, 1, 0, 0, 0, 0, 1, 0, 0, 0, 0, 1, 0, 1,\n",
              "       0, 0, 0, 1, 0, 0, 0, 0, 0, 0, 0, 0, 1, 0, 0, 0, 0, 0, 0, 1, 0, 1,\n",
              "       0, 0, 0, 0, 0, 0, 0, 0, 0, 1, 1, 0, 0, 0, 0, 0, 0, 1, 0, 1, 0, 0,\n",
              "       0, 1, 0, 0, 0, 1, 0, 0, 1, 0, 0, 0, 0, 1, 0, 1, 0, 1, 0, 0, 0, 1,\n",
              "       0, 0, 0, 0, 0, 0, 0, 0, 0, 0, 1, 1, 0, 0, 0, 0, 0, 0, 0, 1, 0, 0,\n",
              "       0, 0, 0, 0, 0, 0, 0, 1, 1, 0, 0, 0, 0, 0, 0, 0, 1, 1, 0, 0, 0, 0,\n",
              "       1, 0, 0, 0, 1, 0, 0, 0, 0, 0, 0, 1, 1, 1, 0, 0, 1, 0, 0, 0, 1, 0,\n",
              "       0, 0, 0, 0, 0, 0, 0, 0, 1, 1, 0, 0, 0, 1, 0, 0, 0, 0, 0, 0, 0, 0,\n",
              "       1, 0, 1, 0, 0, 0, 0, 0, 0, 0, 0, 0, 1, 1, 0, 0, 0, 0, 0, 0, 0, 0,\n",
              "       0, 0, 0, 0, 1, 0, 1, 1, 0, 1, 0, 0, 0, 0, 0, 0, 0, 1, 0, 0, 0, 0,\n",
              "       1, 0, 0, 0, 0, 0, 1, 0, 0, 0, 0, 0, 0, 0, 0, 0, 0, 0, 0, 0, 0, 0,\n",
              "       0, 0, 0, 0, 0, 0, 1, 0, 0, 0, 0, 0, 0, 1, 1, 0, 0, 0, 0, 0])"
            ]
          },
          "metadata": {},
          "execution_count": 68
        }
      ]
    },
    {
      "cell_type": "code",
      "source": [
        "\n",
        "from sklearn.metrics import confusion_matrix, classification_report\n",
        "from tabulate import tabulate\n",
        "# Initializing a dictionary to store evaluation metrics\n",
        "model_evaluation_metrics = {}\n",
        "\n",
        "# Iterating over each model to evaluate\n",
        "for model_name, model in models.items():\n",
        "    # Predict on the test set\n",
        "    y_pred = model.predict(X_test)\n",
        "\n",
        "    # Calculate confusion matrix and classification report\n",
        "    cm = confusion_matrix(y_test, y_pred)\n",
        "    classif_report = classification_report(y_test, y_pred)\n",
        "\n",
        "    # Storing the results\n",
        "    model_evaluation_metrics[model_name] = {\n",
        "        \"Confusion Matrix\":cm,\n",
        "        'Classification Report': classif_report\n",
        "    }\n",
        "\n",
        "\n",
        "    print(f\"{model_name} Evaluation Metrics:\")\n",
        "    print(\"\\nClassification Report:\")\n",
        "    print(classif_report)\n",
        "    print(\"\\n\" + \"=\"*60 + \"\\n\")\n",
        "    plt.figure(figsize=(7,5))\n",
        "    sns.heatmap(cm,annot=True)\n",
        "    plt.xlabel(f\"Predicted by the ({model_name}) model\")\n",
        "    plt.ylabel('Truth'),"
      ],
      "metadata": {
        "colab": {
          "base_uri": "https://localhost:8080/",
          "height": 1000
        },
        "id": "uzeCf0suImxx",
        "outputId": "80193672-709b-4413-cd33-1b8ebb8e9f5c"
      },
      "id": "uzeCf0suImxx",
      "execution_count": 69,
      "outputs": [
        {
          "output_type": "stream",
          "name": "stdout",
          "text": [
            "K-Nearest Neighbors Evaluation Metrics:\n",
            "\n",
            "Classification Report:\n",
            "              precision    recall  f1-score   support\n",
            "\n",
            "           0       0.75      0.82      0.78       295\n",
            "           1       0.44      0.35      0.39       121\n",
            "\n",
            "    accuracy                           0.68       416\n",
            "   macro avg       0.60      0.58      0.59       416\n",
            "weighted avg       0.66      0.68      0.67       416\n",
            "\n",
            "\n",
            "============================================================\n",
            "\n",
            "Logistic Regression Evaluation Metrics:\n",
            "\n",
            "Classification Report:\n",
            "              precision    recall  f1-score   support\n",
            "\n",
            "           0       0.72      0.97      0.82       295\n",
            "           1       0.50      0.08      0.14       121\n",
            "\n",
            "    accuracy                           0.71       416\n",
            "   macro avg       0.61      0.52      0.48       416\n",
            "weighted avg       0.66      0.71      0.63       416\n",
            "\n",
            "\n",
            "============================================================\n",
            "\n",
            "Decision Tree Evaluation Metrics:\n",
            "\n",
            "Classification Report:\n",
            "              precision    recall  f1-score   support\n",
            "\n",
            "           0       0.80      0.78      0.79       295\n",
            "           1       0.50      0.53      0.51       121\n",
            "\n",
            "    accuracy                           0.71       416\n",
            "   macro avg       0.65      0.65      0.65       416\n",
            "weighted avg       0.71      0.71      0.71       416\n",
            "\n",
            "\n",
            "============================================================\n",
            "\n",
            "Support Vector Machine Evaluation Metrics:\n",
            "\n",
            "Classification Report:\n",
            "              precision    recall  f1-score   support\n",
            "\n",
            "           0       0.73      0.98      0.84       295\n",
            "           1       0.74      0.12      0.20       121\n",
            "\n",
            "    accuracy                           0.73       416\n",
            "   macro avg       0.73      0.55      0.52       416\n",
            "weighted avg       0.73      0.73      0.65       416\n",
            "\n",
            "\n",
            "============================================================\n",
            "\n",
            "Random Forest Evaluation Metrics:\n",
            "\n",
            "Classification Report:\n",
            "              precision    recall  f1-score   support\n",
            "\n",
            "           0       0.80      0.90      0.84       295\n",
            "           1       0.64      0.44      0.52       121\n",
            "\n",
            "    accuracy                           0.76       416\n",
            "   macro avg       0.72      0.67      0.68       416\n",
            "weighted avg       0.75      0.76      0.75       416\n",
            "\n",
            "\n",
            "============================================================\n",
            "\n"
          ]
        },
        {
          "output_type": "display_data",
          "data": {
            "text/plain": [
              "<Figure size 700x500 with 2 Axes>"
            ],
            "image/png": "[encoded data removed]"
          },
          "metadata": {}
        },
        {
          "output_type": "display_data",
          "data": {
            "text/plain": [
              "<Figure size 700x500 with 2 Axes>"
            ],
            "image/png": "[encoded data removed]"
          },
          "metadata": {}
        },
        {
          "output_type": "display_data",
          "data": {
            "text/plain": [
              "<Figure size 700x500 with 2 Axes>"
            ],
            "image/png": "[encoded data removed]"
          },
          "metadata": {}
        },
        {
          "output_type": "display_data",
          "data": {
            "text/plain": [
              "<Figure size 700x500 with 2 Axes>"
            ],
            "image/png": "[encoded data removed]"
          },
          "metadata": {}
        },
        {
          "output_type": "display_data",
          "data": {
            "text/plain": [
              "<Figure size 700x500 with 2 Axes>"
            ],
            "image/png": "[encoded data removed]"
          },
          "metadata": {}
        }
      ]
    },
    {
      "cell_type": "code",
      "source": [
        "grid_search.fit(X_train,y_train)"
      ],
      "metadata": {
        "id": "1M9ofwYGJCpz"
      },
      "id": "1M9ofwYGJCpz",
      "execution_count": null,
      "outputs": []
    },
    {
      "cell_type": "code",
      "source": [
        "grid_search.best_score_"
      ],
      "metadata": {
        "id": "KfvSTTfkJDZN"
      },
      "id": "KfvSTTfkJDZN",
      "execution_count": null,
      "outputs": []
    },
    {
      "cell_type": "code",
      "source": [
        "grid_search.best_params_"
      ],
      "metadata": {
        "id": "Xhkab_EOJTEB"
      },
      "id": "Xhkab_EOJTEB",
      "execution_count": null,
      "outputs": []
    }
  ],
  "metadata": {
    "kernelspec": {
      "display_name": "Python 3 (ipykernel)",
      "language": "python",
      "name": "python3"
    },
    "language_info": {
      "codemirror_mode": {
        "name": "ipython",
        "version": 3
      },
      "file_extension": ".py",
      "mimetype": "text/x-python",
      "name": "python",
      "nbconvert_exporter": "python",
      "pygments_lexer": "ipython3",
      "version": "3.10.9"
    },
    "colab": {
      "provenance": []
    }
  },
  "nbformat": 4,
  "nbformat_minor": 5
}